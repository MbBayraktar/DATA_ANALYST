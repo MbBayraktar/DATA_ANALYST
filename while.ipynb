{
 "cells": [
  {
   "cell_type": "markdown",
   "metadata": {},
   "source": [
    "# LOOPS (DÖNGÜLER)"
   ]
  },
  {
   "cell_type": "markdown",
   "metadata": {},
   "source": [
    "# while"
   ]
  },
  {
   "cell_type": "code",
   "execution_count": 3,
   "metadata": {},
   "outputs": [],
   "source": [
    "# while 10 > 4:\n",
    "    # print(\"Bu döngü sonsuza kadar çalışır.\")\n",
    "# while genelde koşullarla çalışır koşul devam ettiği sürece çalışır."
   ]
  },
  {
   "cell_type": "code",
   "execution_count": 4,
   "metadata": {},
   "outputs": [
    {
     "name": "stdout",
     "output_type": "stream",
     "text": [
      "bu döngü koşul sağlandıkça çıktı verir.\n",
      "bu döngü koşul sağlandıkça çıktı verir.\n",
      "bu döngü koşul sağlandıkça çıktı verir.\n",
      "bu döngü koşul sağlandıkça çıktı verir.\n",
      "bu döngü koşul sağlandıkça çıktı verir.\n",
      "bu döngü koşul sağlandıkça çıktı verir.\n"
     ]
    }
   ],
   "source": [
    "x = 4 \n",
    "\n",
    "while 10 > x:\n",
    "    print(\"bu döngü koşul sağlandıkça çıktı verir.\")\n",
    "    x = x + 1 # bu ifade bizim her çalışmada x i artırarak koşul ifadesini False \n",
    "    # olana kadar çalıştırır sonrada döngü sona erer. Eğer bunu yapmazsak \n",
    "    # sonsuz döngüye girer kod. \n"
   ]
  },
  {
   "cell_type": "code",
   "execution_count": 8,
   "metadata": {},
   "outputs": [
    {
     "name": "stdout",
     "output_type": "stream",
     "text": [
      "1\n",
      "2\n",
      "3\n",
      "4\n",
      "5\n",
      "6\n",
      "7\n",
      "8\n",
      "9\n"
     ]
    }
   ],
   "source": [
    "x = 1\n",
    "\n",
    "while x < 10:\n",
    "    print(x)\n",
    "    x += 1 # bu ifade ile x = x + 1 ifadesi aynı anlamdadır. \n",
    "    # x'i arttırma işlemi while işleminin içinde olmalıdır. Yoksa sonsuza gider."
   ]
  },
  {
   "cell_type": "code",
   "execution_count": 9,
   "metadata": {},
   "outputs": [
    {
     "name": "stdout",
     "output_type": "stream",
     "text": [
      "2\n",
      "3\n",
      "4\n",
      "5\n",
      "6\n",
      "7\n",
      "8\n",
      "9\n",
      "10\n"
     ]
    }
   ],
   "source": [
    "x = 1\n",
    "\n",
    "while x < 10:\n",
    "    x = x + 1\n",
    "    print(x) # bu şekilde print'ten önce x arttırma olayını yazarsak \n",
    "    # burada x'i ilk önce artırıp sonra yazdıracak x'i yani ilk değer 2 olur.\n",
    "    # çünkü python yukarıdan aşağıya doğru okur.\n",
    "    # ama döngüyü sonlandırma işlemi değişmez.\n",
    "    "
   ]
  },
  {
   "cell_type": "code",
   "execution_count": 10,
   "metadata": {},
   "outputs": [],
   "source": [
    "while False: # while True olduğu sürece çalışır. Burada while sen çalışma dedik aslında.\n",
    "    print(\"sanki çıktı vermeyecek gibi\")\n",
    "# herhangi bir çıktı verme işlemi yapmaz ama kod hata vermez çalışır sadece.\n",
    "# eğer yukarıda False yerine True dersek bitirmek için birşey yazmazsak sonsuz döngü olur."
   ]
  },
  {
   "cell_type": "code",
   "execution_count": 11,
   "metadata": {},
   "outputs": [],
   "source": [
    "while \"\": # karşılığı False olan hiç bir şey while'ı çalıştırsa bile çıktı vermez.\n",
    "    print(\"bu da çıktı vermez\")\n",
    "# çünkü \"\" bu string ifade falsy bir ifadedir. karşılığı False olduğundan çıktı vermez."
   ]
  },
  {
   "cell_type": "markdown",
   "metadata": {},
   "source": [
    "x = 1\n",
    "\n",
    "while True: # bu kodda çalıştırıldığından sonsuza gider.\n",
    "    print(x, \"sonsuza gider mi acaba? \")\n",
    "    x = x + 1"
   ]
  },
  {
   "cell_type": "code",
   "execution_count": 12,
   "metadata": {},
   "outputs": [
    {
     "name": "stdout",
     "output_type": "stream",
     "text": [
      "while döngüsü condition false olana kadar çalışır\n"
     ]
    }
   ],
   "source": [
    "y = True\n",
    "\n",
    "while y:\n",
    "    print(\"while döngüsü condition false olana kadar çalışır\")\n",
    "    y = False # burada y değeri False olarak değişeceği için sonsuza girmek 1 defa çalışır.\n",
    "    # False olduğu için ikinci döngüde while False'a gireceğinden durur."
   ]
  },
  {
   "cell_type": "code",
   "execution_count": 13,
   "metadata": {},
   "outputs": [
    {
     "name": "stdout",
     "output_type": "stream",
     "text": [
      "deneme: 1\n",
      "deneme: 2\n",
      "deneme: 3\n",
      "3 deneme hakkın bitti\n"
     ]
    }
   ],
   "source": [
    "x = 1 \n",
    "\n",
    "while x <= 3:\n",
    "    print(f\"deneme: {x}\") # f string yönteminde stringin başına ufak f harfi yazılır \n",
    "    # bu sayede string içerisinde {} ile istediğimiz değişkeni koymamızı sağlar.\n",
    "    x += 1\n",
    "\n",
    "print(\"3 deneme hakkın bitti\") # eğer bunuda bir tab içeriden yazsaydık her döngüde bunuda \n",
    "# yazdıracak ve hatalı kod olacaktı o yüzden döngü dışında ve içinde olma durumuna\n",
    "# dikkat etmek gerekir.\n"
   ]
  },
  {
   "cell_type": "code",
   "execution_count": 15,
   "metadata": {},
   "outputs": [
    {
     "name": "stdout",
     "output_type": "stream",
     "text": [
      "1'in karesi: 1\n",
      "2'in karesi: 4\n",
      "3'in karesi: 9\n",
      "4'in karesi: 16\n",
      "5'in karesi: 25\n"
     ]
    }
   ],
   "source": [
    "x = 1 \n",
    "\n",
    "while x <= 5:\n",
    "    print(f\"{x}'in karesi: {x ** 2}\")\n",
    "    x += 1"
   ]
  },
  {
   "cell_type": "code",
   "execution_count": 17,
   "metadata": {},
   "outputs": [
    {
     "name": "stdout",
     "output_type": "stream",
     "text": [
      "80 yanlış tahmin. tekrar deneyin.\n",
      "85 yanlış tahmin. tekrar deneyin.\n"
     ]
    }
   ],
   "source": [
    "x = int(input(\"kilomu tahmin et. 10 luk degerler kullanabilirsin.\"))\n",
    "\n",
    "while x < 90:\n",
    "    print(f\"{x} yanlış tahmin. tekrar deneyin.\")\n",
    "    x = int(input(\"kilomu tahmin et. 10 luk degerler kullanabilirsin.\"))\n",
    "# burada kullanıcıya sonsuz hak verilmiş olur kullanıcı 90 ve üzeri değer girerse\n",
    "# koş false döneceğinden o zaman döngü sona erer.\n"
   ]
  },
  {
   "cell_type": "code",
   "execution_count": 20,
   "metadata": {},
   "outputs": [
    {
     "name": "stdout",
     "output_type": "stream",
     "text": [
      "Girdiginiz sayı: 44. Tahminin arttırmalısın.\n",
      "Girdiginiz sayı: 50. Tahminin arttırmalısın.\n",
      "Girdiginiz sayı: 80. Tahminin azaltmalısın.\n",
      "Girdiginiz sayı: 55. Dogru bildiniz. Tebrikler.\n"
     ]
    }
   ],
   "source": [
    "y = True # Sayı tahmin etme oyunu\n",
    "\n",
    "aklimdaki_sayi = 55\n",
    "\n",
    "while y:\n",
    "    tahmin = int(input(\"1 ile 100 arasında bir sayı tahmin edin.\"))\n",
    "\n",
    "    if aklimdaki_sayi < tahmin:\n",
    "        print(f\"Girdiginiz sayı: {tahmin}. Tahminin azaltmalısın.\")\n",
    "    elif aklimdaki_sayi > tahmin:\n",
    "        print(f\"Girdiginiz sayı: {tahmin}. Tahminin arttırmalısın.\")\n",
    "    else:\n",
    "        print(f\"Girdiginiz sayı: {tahmin}. Dogru bildiniz. Tebrikler.\")\n",
    "        y = False "
   ]
  },
  {
   "cell_type": "code",
   "execution_count": 21,
   "metadata": {},
   "outputs": [
    {
     "name": "stdout",
     "output_type": "stream",
     "text": [
      "Girdiginiz sayı: 50. Tahminin arttırmalısın.\n",
      "Girdiginiz sayı: 60. Tahminin azaltmalısın.\n",
      "Girdiginiz sayı: 55. 3 kerede bildiniz. Tebrikler.\n"
     ]
    }
   ],
   "source": [
    "y = True # Sayı tahmin etme oyunu\n",
    "\n",
    "aklimdaki_sayi = 55\n",
    "\n",
    "sayac = 0 # buraya bunu ekleyerek deneme sayısınıda kodumuza ekleriz.\n",
    "\n",
    "while y:\n",
    "    tahmin = int(input(\"1 ile 100 arasında bir sayı tahmin edin.\"))\n",
    "\n",
    "    sayac += 1 # deneme sayısını da her seferinde arttırmak için bu kodu yazarız.\n",
    "\n",
    "    if aklimdaki_sayi < tahmin:\n",
    "        print(f\"Girdiginiz sayı: {tahmin}. Tahminin azaltmalısın.\")\n",
    "    elif aklimdaki_sayi > tahmin:\n",
    "        print(f\"Girdiginiz sayı: {tahmin}. Tahminin arttırmalısın.\")\n",
    "    else:\n",
    "        print(f\"Girdiginiz sayı: {tahmin}. {sayac} kerede bildiniz. Tebrikler.\")\n",
    "        y = False "
   ]
  },
  {
   "cell_type": "code",
   "execution_count": 23,
   "metadata": {},
   "outputs": [
    {
     "name": "stdout",
     "output_type": "stream",
     "text": [
      "Girdiginiz sayı: 40. Tahminin arttırmalısın.\n",
      "Girdiginiz sayı: 52. Tahminin arttırmalısın.\n",
      "Girdiginiz sayı: 60. Tahminin azaltmalısın.\n",
      "Girdiginiz sayı: 75. Tahminin azaltmalısın.\n",
      "Girdiginiz sayı: 84. Tahminin azaltmalısın.\n",
      "Tahmin hakkınız bitmiştir.\n"
     ]
    }
   ],
   "source": [
    "y = True # Sayı tahmin etme oyunu\n",
    "\n",
    "aklimdaki_sayi = 55\n",
    "\n",
    "sayac = 0 # buraya bunu ekleyerek deneme sayısınıda kodumuza ekleriz.\n",
    "\n",
    "while y:\n",
    "    tahmin = int(input(\"1 ile 100 arasında bir sayı tahmin edin.\"))\n",
    "\n",
    "    sayac += 1 # deneme sayısını da her seferinde arttırmak için bu kodu yazarız.\n",
    "\n",
    "    if aklimdaki_sayi < tahmin:\n",
    "        print(f\"Girdiginiz sayı: {tahmin}. Tahminin azaltmalısın.\")\n",
    "    elif aklimdaki_sayi > tahmin:\n",
    "        print(f\"Girdiginiz sayı: {tahmin}. Tahminin arttırmalısın.\")\n",
    "    else:\n",
    "        print(f\"Girdiginiz sayı: {tahmin}. {sayac} kerede bildiniz. Tebrikler.\")\n",
    "        y = False \n",
    "\n",
    "    if sayac == 5: # bunu yazarak 5 kere girdikten sonra bilemese bile döngü sonlanır.\n",
    "        y = False  # yani kullanıcıya aslında 5 kullanım hakkı vermek demektir bu kod.\n",
    "        print(\"Tahmin hakkınız bitmiştir.\")\n",
    "        "
   ]
  },
  {
   "cell_type": "code",
   "execution_count": 24,
   "metadata": {},
   "outputs": [],
   "source": [
    "sayılar_listesi = [1, 3, 4, 6, 5, 7]"
   ]
  },
  {
   "cell_type": "code",
   "execution_count": 28,
   "metadata": {},
   "outputs": [
    {
     "name": "stdout",
     "output_type": "stream",
     "text": [
      "1\n",
      "9\n",
      "16\n",
      "36\n",
      "25\n",
      "49\n"
     ]
    }
   ],
   "source": [
    "# örn: sayılar_listesi içindeki tüm elemanlara ulaşarak karesini  \n",
    "# while döngüsü ile yazdırın. \n",
    "x = 0 \n",
    "\n",
    "while x < len(sayılar_listesi):\n",
    "\n",
    "    print(sayılar_listesi[x] ** 2)\n",
    "\n",
    "    x += 1 \n",
    "\n",
    "\n"
   ]
  },
  {
   "cell_type": "code",
   "execution_count": 27,
   "metadata": {},
   "outputs": [
    {
     "name": "stdout",
     "output_type": "stream",
     "text": [
      "[1, 9, 16, 36, 25, 49]\n"
     ]
    }
   ],
   "source": [
    "# örn: sayılar_listesi içindeki tüm elemanlara ulaşarak karesini  \n",
    "# while döngüsü ile liste olarak yazdırın. \n",
    "x = 0 \n",
    "\n",
    "kareler_listesi = []\n",
    "\n",
    "while x < len(sayılar_listesi):\n",
    "\n",
    "    a = sayılar_listesi[x] ** 2\n",
    "    kareler_listesi.append(a)\n",
    "    \n",
    "\n",
    "    x += 1 \n",
    "print(kareler_listesi)"
   ]
  },
  {
   "cell_type": "code",
   "execution_count": 31,
   "metadata": {},
   "outputs": [
    {
     "name": "stdout",
     "output_type": "stream",
     "text": [
      "[16, 36]\n"
     ]
    }
   ],
   "source": [
    "#listenin elemanlarından çift olanların karesini bir liste içinde döndüren while döngüsünü yazın.\n",
    "sayılar_listesi = [1, 3, 4, 6, 5, 7]\n",
    "\n",
    "x = 0 \n",
    "\n",
    "cift_kareler_listesi = []\n",
    "\n",
    "while x < len(sayılar_listesi):\n",
    "\n",
    "    if sayılar_listesi[x] % 2 == 0:\n",
    "\n",
    "        a = sayılar_listesi[x] ** 2\n",
    "        \n",
    "        cift_kareler_listesi.append(a)\n",
    "    \n",
    "\n",
    "    x += 1 \n",
    "print(cift_kareler_listesi)"
   ]
  },
  {
   "cell_type": "markdown",
   "metadata": {},
   "source": [
    "Ödev:  [1,5,6,7,12,14,15,18,19,32,25] listesinin tek elemanlarının karesini, \n",
    "çift elemanlarının 2 katını liste halinde döndüren while döngüsünü yazın."
   ]
  },
  {
   "cell_type": "code",
   "execution_count": 3,
   "metadata": {},
   "outputs": [
    {
     "name": "stdout",
     "output_type": "stream",
     "text": [
      "Listenin yeni hali: [1, 25, 12, 49, 24, 28, 225, 36, 361, 64, 625]\n"
     ]
    }
   ],
   "source": [
    "sayılar_listesi = [1, 5, 6, 7, 12, 14, 15, 18, 19, 32, 25]\n",
    "\n",
    "x = 0 \n",
    "\n",
    "yeni_liste = []\n",
    "\n",
    "while x < len(sayılar_listesi):\n",
    "    if sayılar_listesi[x] % 2 != 0:#burada sayılar_listesi[x] % 2 yazarsak sonuç 1 veya 0 geleceğinden\n",
    "        # 1 ve 0 da true ve false'a denk geldiğinden burada eşitleme yapmadan da direk if koşulunda\n",
    "        # kullanabiliriz. çünkü sayılar_listesi[x] % 2 eğer 0 ise false olur if koşulu çalışmaz.\n",
    "        # eğer sonuç 1 ise true ya eşit olur ve if koşulu çalışır. bu şekilde de kullanım yapılabilir.\n",
    "        # bu olay sadece 2 ye özeldir. çünkü bir sayının iki sonucu vardır ya çift ya tektir.\n",
    "        # yani ya 1(Ture) ya da 0 (False)'tur. Bu yanlızca çift tek sayıda kullanılabilir.\n",
    "        a = sayılar_listesi[x] ** 2\n",
    "        yeni_liste.append(a)\n",
    "    else:\n",
    "        b = sayılar_listesi[x] * 2\n",
    "        yeni_liste.append(b)\n",
    "    x += 1\n",
    "\n",
    "print(f\"Listenin yeni hali: {yeni_liste}\")\n"
   ]
  },
  {
   "cell_type": "code",
   "execution_count": 10,
   "metadata": {},
   "outputs": [
    {
     "name": "stdout",
     "output_type": "stream",
     "text": [
      "1 ile 100 arasındaki sayıların toplamı: 4950'dır.\n"
     ]
    }
   ],
   "source": [
    "# örn : 1 ile 100 (dahil değil) arasındaki sayıları toplayan programı yazınız.\n",
    "liste_1 = list(range(1,100))\n",
    "\n",
    "x = 0\n",
    "\n",
    "liste_toplamı = 0\n",
    "\n",
    "while x < len(liste_1):\n",
    "    liste_toplamı += liste_1[x] \n",
    "    x += 1\n",
    "print(f\"1 ile 100 arasındaki sayıların toplamı: {liste_toplamı}'dır.\") "
   ]
  },
  {
   "cell_type": "code",
   "execution_count": 1,
   "metadata": {},
   "outputs": [
    {
     "name": "stdout",
     "output_type": "stream",
     "text": [
      "tebrikler 3 sayısı girdiniz ve döngü sona erdi.\n"
     ]
    }
   ],
   "source": [
    "# Örnek 2: Kullanıcıdan 1 ile 5 arasında bir sayı girmesi isteyiniz. \n",
    "# Kullanıcı 3 sayısını girdiğinde break komutu ile döngüden çıkılarak \n",
    "# “3 sayısı girildi ve döngü sona erdi” çıktısı veren kodu yazınız.\n",
    "\n",
    "while True:\n",
    "    x = int(input(\"Lütfen 1 ile 5 arasında bir tam sayı giriniz.\"))\n",
    "    if x == 3:\n",
    "        print(\"tebrikler 3 sayısı girdiniz ve döngü sona erdi.\")\n",
    "        break"
   ]
  },
  {
   "cell_type": "code",
   "execution_count": null,
   "metadata": {},
   "outputs": [],
   "source": [
    "# Örnek 3: Kullanıcıdan 8 karakterlik bir şifre girmesini isteyiniz. \n",
    "# Kullanıcı 8’den az ya da daha fazla karakter içeren bir şifre girdiğinde \n",
    "# “Şifreniz 8 karakter olmalıdır.” şeklinde uyarı verdiriniz. \n",
    "# Kullanıcı şartlara uygun bir şifre girdiğinde de “Şifreniz kaydedildi.” uyarısı verdiriniz."
   ]
  },
  {
   "cell_type": "markdown",
   "metadata": {},
   "source": [
    "## random modülü"
   ]
  },
  {
   "cell_type": "code",
   "execution_count": 4,
   "metadata": {},
   "outputs": [],
   "source": [
    "import random"
   ]
  },
  {
   "cell_type": "code",
   "execution_count": 9,
   "metadata": {},
   "outputs": [
    {
     "data": {
      "text/plain": [
       "0.7505409503856707"
      ]
     },
     "execution_count": 9,
     "metadata": {},
     "output_type": "execute_result"
    }
   ],
   "source": [
    "random.random() # bu şekilde bize 0(dahil) ile 1(dahil değil) arasında bir float değer üretir.\n",
    "# her çalıştırdığımızda bize farklı değer üretir."
   ]
  },
  {
   "cell_type": "code",
   "execution_count": 10,
   "metadata": {},
   "outputs": [
    {
     "data": {
      "text/plain": [
       "0.5486946056438222"
      ]
     },
     "execution_count": 10,
     "metadata": {},
     "output_type": "execute_result"
    }
   ],
   "source": [
    "random.seed(35) # belli bir sabite göre aynı değerleri rassal olarak üretir.\n",
    "# burada random değerini seed ile belirler isek her çalıştırmamızda aynı değeri alırız.\n",
    "random.random()"
   ]
  },
  {
   "cell_type": "code",
   "execution_count": 11,
   "metadata": {},
   "outputs": [
    {
     "data": {
      "text/plain": [
       "3"
      ]
     },
     "execution_count": 11,
     "metadata": {},
     "output_type": "execute_result"
    }
   ],
   "source": [
    "random.randint(2, 5)\n",
    "# 2 ve 5 dahil olmak üzere bu method bize rastgele int bir değer üretir. "
   ]
  },
  {
   "cell_type": "code",
   "execution_count": 14,
   "metadata": {},
   "outputs": [
    {
     "data": {
      "text/plain": [
       "[78, 88, 71, 93, 86]"
      ]
     },
     "execution_count": 14,
     "metadata": {},
     "output_type": "execute_result"
    }
   ],
   "source": [
    "random.sample(range(70, 100),5) # bu bize 70 ile 100 arası 5 adet satı üretir. "
   ]
  },
  {
   "cell_type": "code",
   "execution_count": 28,
   "metadata": {},
   "outputs": [
    {
     "data": {
      "text/plain": [
       "'m'"
      ]
     },
     "execution_count": 28,
     "metadata": {},
     "output_type": "execute_result"
    }
   ],
   "source": [
    "random.choice(\"mete\") # iterable değerlerden seçiyor bu method."
   ]
  },
  {
   "cell_type": "code",
   "execution_count": 26,
   "metadata": {},
   "outputs": [
    {
     "data": {
      "text/plain": [
       "11"
      ]
     },
     "execution_count": 26,
     "metadata": {},
     "output_type": "execute_result"
    }
   ],
   "source": [
    "random.randrange(20) # 20 ye kadar rastgele bir sayı seçer bu aralıktan"
   ]
  },
  {
   "cell_type": "markdown",
   "metadata": {},
   "source": [
    "## break, continue"
   ]
  },
  {
   "cell_type": "code",
   "execution_count": 30,
   "metadata": {},
   "outputs": [
    {
     "name": "stdout",
     "output_type": "stream",
     "text": [
      "Girdiğiniz sayı : 50. Tahminini azalt\n",
      "Girdiğiniz sayı : 25. Tahminini arttır\n",
      "Girdiğiniz sayı : 35. Tahminini arttır\n",
      "Girdiğiniz sayı : 39. Tahminini arttır\n",
      "Girdiğiniz sayı : 42. Tahminini arttır\n",
      "Girdiğiniz sayı : 45. Tahminini arttır\n",
      "Girdiğiniz sayı : 47. Doğru bildiniz. Tebrikler. \n"
     ]
    }
   ],
   "source": [
    "y = True\n",
    "\n",
    "aklımdaki_sayı = random.randint(1,100)\n",
    "\n",
    "while y:\n",
    "\n",
    "    tahmin = int(input(\"1 ile 100 arasında bir sayı tahmin edin.\"))\n",
    "\n",
    "    if aklımdaki_sayı < tahmin:\n",
    "        print(f\"Girdiğiniz sayı : {tahmin}. Tahminini azalt\")\n",
    "\n",
    "    elif aklımdaki_sayı > tahmin:\n",
    "        print(f\"Girdiğiniz sayı : {tahmin}. Tahminini arttır\")\n",
    "\n",
    "    else:\n",
    "        print(f\"Girdiğiniz sayı : {tahmin}. Doğru bildiniz. Tebrikler. \")\n",
    "        break"
   ]
  },
  {
   "cell_type": "code",
   "execution_count": 35,
   "metadata": {},
   "outputs": [
    {
     "name": "stdout",
     "output_type": "stream",
     "text": [
      "Girdiğiniz sayı : 20. Tahminini arttır\n",
      "Girdiğiniz sayı : 15. Tahminini arttır\n",
      "Girdiğiniz sayı : 25. Tahminini arttır\n",
      "Girdiğiniz sayı : 35. Tahminini arttır\n",
      "Girdiğiniz sayı : 36. Tahminini arttır\n",
      "5 hakkın bitti. sayı 93\n"
     ]
    }
   ],
   "source": [
    "# burada kullanıcıya 5 tane tahmin hakkı veriyoruz.\n",
    "import time # time modulu dahil edilmesi bu şekildedir.\n",
    "# herhangi bir modul bu şekilde import edilerek kullanılabilir.\n",
    "\n",
    "time.sleep(2) # buraya gelince kod akışı 2 saniye bekler. bu kod bu işe yarar.\n",
    "\n",
    "aklımdaki_sayı = random.randint(1,100)\n",
    "sayac = 0\n",
    "\n",
    "while True:\n",
    "\n",
    "    tahmin = int(input(\"1 ile 100 arasında bir sayı tahmin edin.\"))\n",
    "\n",
    "    sayac += 1\n",
    "\n",
    "    time.sleep(2)\n",
    "\n",
    "    if aklımdaki_sayı < tahmin:\n",
    "        print(f\"Girdiğiniz sayı : {tahmin}. Tahminini azalt\")\n",
    "\n",
    "    elif aklımdaki_sayı > tahmin:\n",
    "        print(f\"Girdiğiniz sayı : {tahmin}. Tahminini arttır\")\n",
    "\n",
    "    else:\n",
    "        print(f\"Girdiğiniz sayı : {tahmin}. Doğru bildiniz. Tebrikler. \")\n",
    "\n",
    "        break\n",
    "\n",
    "    time.sleep(2) # bu kodu nereye yazarsak onu görünce içine yazdığımız süre boyunca bekler.\n",
    "\n",
    "    if sayac == 5:\n",
    "        print(f\"5 hakkın bitti. sayı {aklımdaki_sayı}\")\n",
    "        break"
   ]
  },
  {
   "cell_type": "code",
   "execution_count": 1,
   "metadata": {},
   "outputs": [
    {
     "name": "stdout",
     "output_type": "stream",
     "text": [
      "4 indeksi string olduğundan işlem durduruldu.\n",
      "ilk 3 indexin toplamı 10'dır.\n"
     ]
    }
   ],
   "source": [
    "# sırayla int değerleri toplayıp string ifadeye gelince kod sona ersin.\n",
    "liste = [1, 2, 3, 4, \"Techpro\", 5, 6, 7]\n",
    "\n",
    "x = 0\n",
    "\n",
    "toplam = 0\n",
    "\n",
    "while x < len(liste):\n",
    "    \n",
    "    if type(liste[x]) == int:\n",
    "        toplam += liste[x]\n",
    "    else:\n",
    "        print(f\"{x} indeksi string olduğundan işlem durduruldu.\")\n",
    "        break\n",
    "    x += 1\n",
    "print(f\"ilk {x - 1} indexin toplamı {toplam}'dır.\")    "
   ]
  },
  {
   "cell_type": "code",
   "execution_count": 41,
   "metadata": {},
   "outputs": [
    {
     "name": "stdout",
     "output_type": "stream",
     "text": [
      "10\n"
     ]
    }
   ],
   "source": [
    "liste = [1, 2, 3, 4, \"Techpro\", 5, 6, 7]\n",
    "\n",
    "x = 0\n",
    "\n",
    "toplam = 0\n",
    "\n",
    "while x < len(liste):\n",
    "    \n",
    "    if type(liste[x]) == int:\n",
    "        toplam += liste[x]\n",
    "    elif type(liste[x]) == str:\n",
    "        break\n",
    "    x += 1\n",
    "print(toplam)    "
   ]
  },
  {
   "cell_type": "code",
   "execution_count": 43,
   "metadata": {},
   "outputs": [
    {
     "name": "stdout",
     "output_type": "stream",
     "text": [
      "28\n"
     ]
    }
   ],
   "source": [
    "# sırayla int değerlerini toplayın. str bir ifadeye denk geldiğinde o ifadeyi atlayın.\n",
    "liste = [1, 2, 3, 4, \"Techpro\", 5, 6, 7]\n",
    "\n",
    "x = 0\n",
    "\n",
    "toplam = 0\n",
    "\n",
    "while x < len(liste):\n",
    "    \n",
    "    if type(liste[x]) == int:\n",
    "        toplam += liste[x]\n",
    "\n",
    "    elif type(liste[x]) == str:\n",
    "        x += 1 # continue'nın altındaki x artırma olayı çalışmayacağından önüne de x'in \n",
    "        # atlayarak geçmesi için cont üstüne de yazmamız gerekir yoksa x atlayamaz ve döngü\n",
    "        # sonsuza gider.\n",
    "        continue # devamındaki kodları görmez pass geçer.burada anlamı string ise onu görmezden \n",
    "                 # gelip devam eder. işleme dahil etmez onu.\n",
    "    x += 1 \n",
    "print(toplam)"
   ]
  },
  {
   "cell_type": "markdown",
   "metadata": {},
   "source": [
    "## min() ve max() fonksiyonları"
   ]
  },
  {
   "cell_type": "code",
   "execution_count": 44,
   "metadata": {},
   "outputs": [],
   "source": [
    "liste = [2, 5, 1, 3, 9, 4, 6, 8, 15, 48, 256]"
   ]
  },
  {
   "cell_type": "code",
   "execution_count": 45,
   "metadata": {},
   "outputs": [
    {
     "data": {
      "text/plain": [
       "1"
      ]
     },
     "execution_count": 45,
     "metadata": {},
     "output_type": "execute_result"
    }
   ],
   "source": [
    "min(liste) \n",
    "# listenin içerisindeki min elemanı bulur ve bize çıktı verir."
   ]
  },
  {
   "cell_type": "code",
   "execution_count": 46,
   "metadata": {},
   "outputs": [
    {
     "data": {
      "text/plain": [
       "256"
      ]
     },
     "execution_count": 46,
     "metadata": {},
     "output_type": "execute_result"
    }
   ],
   "source": [
    "max(liste) # listenin içerisindeki max elemanı bulur ve bize çıktı verir."
   ]
  },
  {
   "cell_type": "code",
   "execution_count": 47,
   "metadata": {},
   "outputs": [],
   "source": [
    "tuple = (5, 8, 4, 6, 9)"
   ]
  },
  {
   "cell_type": "code",
   "execution_count": 48,
   "metadata": {},
   "outputs": [
    {
     "data": {
      "text/plain": [
       "4"
      ]
     },
     "execution_count": 48,
     "metadata": {},
     "output_type": "execute_result"
    }
   ],
   "source": [
    "min(tuple) \n",
    "# bu fonksiyonları içersinde hepsi str ise ASCII koduna göre gösterir.\n",
    "# fakat içerisinde int ve str varsa hata verir bu fonksiyonlar bize."
   ]
  },
  {
   "cell_type": "code",
   "execution_count": 49,
   "metadata": {},
   "outputs": [
    {
     "data": {
      "text/plain": [
       "9"
      ]
     },
     "execution_count": 49,
     "metadata": {},
     "output_type": "execute_result"
    }
   ],
   "source": [
    "max(tuple)"
   ]
  },
  {
   "cell_type": "markdown",
   "metadata": {},
   "source": [
    "Ödev : \n",
    "liste_1 = [4,5,6,9,85,23,65,47,32,91] listenin en küçük ve en büyük elemanını min ve max fonksiyonu kullanmadan bulun. sort fonk da kullanmayın. ödev while döngüsü ile yapılacak."
   ]
  },
  {
   "cell_type": "code",
   "execution_count": 6,
   "metadata": {},
   "outputs": [
    {
     "name": "stdout",
     "output_type": "stream",
     "text": [
      "Listenin En Küçük Elemanı: 4'tür.\n",
      "Listenin En Büyük Elemanı: 91'dir.\n"
     ]
    }
   ],
   "source": [
    "liste_1 = [4,5,6,9,85,23,65,47,32,91]\n",
    "\n",
    "x = 1\n",
    "\n",
    "min = liste_1[0]\n",
    "\n",
    "max = liste_1[0]\n",
    "\n",
    "while x < len(liste_1):\n",
    "\n",
    "    if liste_1[x] < min:\n",
    "        min = liste_1[x]\n",
    "\n",
    "    elif liste_1[x] > max:\n",
    "        max = liste_1[x]\n",
    "\n",
    "    x += 1 \n",
    "\n",
    "print(f\"Listenin En Küçük Elemanı: {min}'tür.\")  \n",
    "print(f\"Listenin En Büyük Elemanı: {max}'dir.\")\n"
   ]
  },
  {
   "cell_type": "code",
   "execution_count": 51,
   "metadata": {},
   "outputs": [
    {
     "name": "stdout",
     "output_type": "stream",
     "text": [
      "Listenin En Küçük Elemanı: 5'dir.\n",
      "Listenin En Büyük Elemanı: 99'dir.\n"
     ]
    }
   ],
   "source": [
    "liste_1 = [89,5,69,9,85,99,65,47,32,91]\n",
    "\n",
    "x = 1\n",
    "\n",
    "min = liste_1[0]\n",
    "\n",
    "max = liste_1[0]\n",
    "\n",
    "while x < len(liste_1):\n",
    "\n",
    "    if liste_1[x] < min:\n",
    "        min = liste_1[x]\n",
    "\n",
    "    elif liste_1[x] > max:\n",
    "        max = liste_1[x]\n",
    "\n",
    "    x += 1 \n",
    "\n",
    "print(f\"Listenin En Küçük Elemanı: {min}'dir.\")  \n",
    "print(f\"Listenin En Büyük Elemanı: {max}'dir.\")"
   ]
  },
  {
   "cell_type": "code",
   "execution_count": null,
   "metadata": {},
   "outputs": [],
   "source": []
  }
 ],
 "metadata": {
  "kernelspec": {
   "display_name": "Python 3",
   "language": "python",
   "name": "python3"
  },
  "language_info": {
   "codemirror_mode": {
    "name": "ipython",
    "version": 3
   },
   "file_extension": ".py",
   "mimetype": "text/x-python",
   "name": "python",
   "nbconvert_exporter": "python",
   "pygments_lexer": "ipython3",
   "version": "3.12.2"
  }
 },
 "nbformat": 4,
 "nbformat_minor": 2
}
