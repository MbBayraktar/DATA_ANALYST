{
 "cells": [
  {
   "cell_type": "markdown",
   "metadata": {},
   "source": [
    "# list Comprehension"
   ]
  },
  {
   "cell_type": "code",
   "execution_count": 2,
   "metadata": {},
   "outputs": [
    {
     "name": "stdout",
     "output_type": "stream",
     "text": [
      "[1, 4, 9, 16, 25]\n"
     ]
    }
   ],
   "source": [
    "liste_1 = [1, 2, 3, 4, 5]\n",
    "\n",
    "empty_list = []\n",
    "\n",
    "for i in liste_1:\n",
    "    empty_list.append(i ** 2)\n",
    "    \n",
    "print(empty_list)"
   ]
  },
  {
   "cell_type": "code",
   "execution_count": 3,
   "metadata": {},
   "outputs": [
    {
     "data": {
      "text/plain": [
       "[1, 4, 9, 16, 25]"
      ]
     },
     "execution_count": 3,
     "metadata": {},
     "output_type": "execute_result"
    }
   ],
   "source": [
    "[i ** 2 for i in liste_1] \n",
    "# bu şekilde yaparak direk listenin elemanlarını gezerek her dolaşmada elemanlarının karesini \n",
    "# alarak yeni listeye yazdırır. List Comprehension böyle kullanılır. \n",
    "# ama while olmaz bu şekilde "
   ]
  },
  {
   "cell_type": "code",
   "execution_count": 5,
   "metadata": {},
   "outputs": [
    {
     "data": {
      "text/plain": [
       "['renault!', 'fiat*', 'ford?']"
      ]
     },
     "execution_count": 5,
     "metadata": {},
     "output_type": "execute_result"
    }
   ],
   "source": [
    "liste_2 = [\"renault!\", \"fiat*\", \"ford?\"]\n",
    "liste_2"
   ]
  },
  {
   "cell_type": "code",
   "execution_count": 6,
   "metadata": {},
   "outputs": [
    {
     "name": "stdout",
     "output_type": "stream",
     "text": [
      "renault\n",
      "fiat\n",
      "ford\n"
     ]
    }
   ],
   "source": [
    "for i in liste_2: # bu şekilde metini temizliyoruz. \n",
    "    print(i.replace(\"!\",\"\").replace(\"*\",\"\").replace(\"?\",\"\"))"
   ]
  },
  {
   "cell_type": "code",
   "execution_count": 7,
   "metadata": {},
   "outputs": [
    {
     "name": "stdout",
     "output_type": "stream",
     "text": [
      "renault\n",
      "fiat\n",
      "ford\n"
     ]
    }
   ],
   "source": [
    "for i in liste_2: # bu şekilde de metini temizliyoruz. \n",
    "    print(i.strip(\"!*?\"))"
   ]
  },
  {
   "cell_type": "code",
   "execution_count": 8,
   "metadata": {},
   "outputs": [
    {
     "name": "stdout",
     "output_type": "stream",
     "text": [
      "['renault', 'fiat', 'ford']\n"
     ]
    }
   ],
   "source": [
    "düzenlenmis_liste = []\n",
    "\n",
    "for i in liste_2:\n",
    "    düzenlenmis_liste.append(i.strip(\"!*?\"))\n",
    "\n",
    "print(düzenlenmis_liste)"
   ]
  },
  {
   "cell_type": "code",
   "execution_count": 9,
   "metadata": {},
   "outputs": [
    {
     "data": {
      "text/plain": [
       "['renault', 'fiat', 'ford']"
      ]
     },
     "execution_count": 9,
     "metadata": {},
     "output_type": "execute_result"
    }
   ],
   "source": [
    "[i.strip(\"!*?\") for i in liste_2] \n",
    "# for döngüsünü tek başına kullanmıyorsak işlem kısmını for un sol tarafına yazmamız gerek.\n",
    "# yukarıdaki kodu çok daha basit şekilde yazabiliyoruz."
   ]
  },
  {
   "cell_type": "code",
   "execution_count": 10,
   "metadata": {},
   "outputs": [
    {
     "name": "stdout",
     "output_type": "stream",
     "text": [
      "[1, 15, 5, 89, 45, 71, 45, 95, 61]\n"
     ]
    }
   ],
   "source": [
    "sayılar_listesi = [1,15,2,36,5,89,45,62,52,71,30,56,45,95,61,48]\n",
    "\n",
    "tek_sayılar = []\n",
    "\n",
    "for i in sayılar_listesi:\n",
    "\n",
    "    if i % 2:\n",
    "        tek_sayılar.append(i)\n",
    "\n",
    "print(tek_sayılar)\n",
    "\n",
    "# aşağıda daha basit şekilde yazımı vardır aynı kodun basit yazımı."
   ]
  },
  {
   "cell_type": "markdown",
   "metadata": {},
   "source": [
    "## for + if beraber kullanımı"
   ]
  },
  {
   "cell_type": "code",
   "execution_count": 11,
   "metadata": {},
   "outputs": [
    {
     "data": {
      "text/plain": [
       "[1, 15, 5, 89, 45, 71, 45, 95, 61]"
      ]
     },
     "execution_count": 11,
     "metadata": {},
     "output_type": "execute_result"
    }
   ],
   "source": [
    "[ i for i in sayılar_listesi if i % 2 == 1]\n",
    "# for + if kullanılırken if yapısı for un soluna yapılacak işlem for un soluna yazılmalıdır.\n",
    "# görüldüğü gibi yukarıdaki sonucun aynısıdır."
   ]
  },
  {
   "cell_type": "code",
   "execution_count": 12,
   "metadata": {},
   "outputs": [
    {
     "data": {
      "text/plain": [
       "[2, 36, 62, 52, 30, 56, 48]"
      ]
     },
     "execution_count": 12,
     "metadata": {},
     "output_type": "execute_result"
    }
   ],
   "source": [
    "[ i for i in sayılar_listesi if i % 2 == 0]\n",
    "# burada da çift sayıları ayıkladık"
   ]
  },
  {
   "cell_type": "code",
   "execution_count": 17,
   "metadata": {},
   "outputs": [
    {
     "data": {
      "text/plain": [
       "[2, 30, 36, 48, 52, 56, 62]"
      ]
     },
     "execution_count": 17,
     "metadata": {},
     "output_type": "execute_result"
    }
   ],
   "source": [
    "a = [ i for i in sayılar_listesi if i % 2 == 0]\n",
    "a.sort()\n",
    "a"
   ]
  },
  {
   "cell_type": "code",
   "execution_count": 15,
   "metadata": {},
   "outputs": [],
   "source": [
    "a = [ i for i in sayılar_listesi if i % 2 == 0].sort() \n",
    "# bu şekilde bir atama yapılırsa sort methodu bize çıktıyı none olarak verdiğinden a değişkeni\n",
    "# boş bir çıktı haline döner o yüzden sort methodu yukarıdaki gibi kullanılmalıdır."
   ]
  },
  {
   "cell_type": "code",
   "execution_count": 16,
   "metadata": {},
   "outputs": [],
   "source": [
    "a # görüldüğü gibi burada sonuç bize none olarak dönecek"
   ]
  },
  {
   "cell_type": "markdown",
   "metadata": {},
   "source": [
    "## for + if + else "
   ]
  },
  {
   "cell_type": "code",
   "execution_count": 19,
   "metadata": {},
   "outputs": [
    {
     "name": "stdout",
     "output_type": "stream",
     "text": [
      "[1, 225, 2, 36, 25, 7921, 2025, 62, 52, 5041, 30, 56, 2025, 9025, 3721, 48]\n"
     ]
    }
   ],
   "source": [
    "# çift olanlar yerinde olduğu gibi kalsın, tek olanların karesini yazdırın\n",
    "sayılar_listesi = [1,15,2,36,5,89,45,62,52,71,30,56,45,95,61,48]\n",
    "\n",
    "sonuç = []\n",
    "\n",
    "for i in sayılar_listesi:\n",
    "    if i % 2 == 0:\n",
    "\n",
    "        sonuç.append(i)\n",
    "    else:\n",
    "        sonuç.append(i ** 2)\n",
    "\n",
    "print(sonuç)"
   ]
  },
  {
   "cell_type": "code",
   "execution_count": 20,
   "metadata": {},
   "outputs": [
    {
     "data": {
      "text/plain": [
       "[1, 225, 2, 36, 25, 7921, 2025, 62, 52, 5041, 30, 56, 2025, 9025, 3721, 48]"
      ]
     },
     "execution_count": 20,
     "metadata": {},
     "output_type": "execute_result"
    }
   ],
   "source": [
    "# çift olanlar yerinde olduğu gibi kalsın, tek olanların karesini yazdırın\n",
    "sayılar_listesi = [1,15,2,36,5,89,45,62,52,71,30,56,45,95,61,48]\n",
    "\n",
    "[i if i % 2 == 0 else i ** 2 for i in sayılar_listesi ]\n",
    "# eğer comprehension da for if ve else ile kullanılacaksa \n",
    "# for en SAĞA yazılır.\n",
    "# if en başa yazılır if işlemi if in SOLUNA\n",
    "# else if ten sonra yazılır else in işlemi else in SAĞINA yazılır\n",
    "# bu şekilde doğru bir şekilde sonuç alınır.\n"
   ]
  },
  {
   "cell_type": "code",
   "execution_count": 24,
   "metadata": {},
   "outputs": [
    {
     "name": "stdout",
     "output_type": "stream",
     "text": [
      "4\n",
      "5\n",
      "6\n",
      "8\n",
      "10\n",
      "12\n",
      "12\n",
      "15\n",
      "18\n"
     ]
    }
   ],
   "source": [
    "for i in (1,2,3):  # dış döngü\n",
    "    for j in [4,5,6]:  # iç döngü\n",
    "        print(i * j)\n",
    "# dış döngü den iç döngüye geçer iç döngü bitmeden tekrar iç döngüye geçmez o yüzden \n",
    "# dış döngüden bir eleman alıp iç döngünün tüm elemanları ile çarpıp işlem yapıp sonra \n",
    "# dış döngüye gidip ikinci elemanı alarak aynı işlemi yapacak böyle devam eder işlem sırası."
   ]
  },
  {
   "cell_type": "code",
   "execution_count": 21,
   "metadata": {},
   "outputs": [
    {
     "data": {
      "text/plain": [
       "[4, 5, 6, 8, 10, 12, 12, 15, 18]"
      ]
     },
     "execution_count": 21,
     "metadata": {},
     "output_type": "execute_result"
    }
   ],
   "source": [
    "[i * j for i in (1,2,3) for j in [4,5,6]]\n",
    "# list comprehension da bu şekilde iç içe iki for da kullanılabilir\n",
    "# burada yaptığı işlem i elemanının ilk elemanı ile j'nin tüm elemanları çarpar.\n",
    "# sonra i nin sıralı elemanları ile bunu tekrar eder ve hepsini liste halinde bize verir.\n",
    "# ilk for dış döngü ikinci for ise iç döngü konumundadır."
   ]
  },
  {
   "cell_type": "code",
   "execution_count": null,
   "metadata": {},
   "outputs": [],
   "source": []
  }
 ],
 "metadata": {
  "kernelspec": {
   "display_name": "Python 3",
   "language": "python",
   "name": "python3"
  },
  "language_info": {
   "codemirror_mode": {
    "name": "ipython",
    "version": 3
   },
   "file_extension": ".py",
   "mimetype": "text/x-python",
   "name": "python",
   "nbconvert_exporter": "python",
   "pygments_lexer": "ipython3",
   "version": "3.12.2"
  }
 },
 "nbformat": 4,
 "nbformat_minor": 2
}
