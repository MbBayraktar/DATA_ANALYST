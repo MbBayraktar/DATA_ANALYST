{
 "cells": [
  {
   "cell_type": "markdown",
   "metadata": {},
   "source": [
    "# for"
   ]
  },
  {
   "cell_type": "code",
   "execution_count": 2,
   "metadata": {},
   "outputs": [
    {
     "name": "stdout",
     "output_type": "stream",
     "text": [
      "t\n",
      "e\n",
      "c\n",
      "h\n",
      "p\n",
      "r\n",
      "o\n"
     ]
    }
   ],
   "source": [
    "for i in \"techpro\": # for döngüsü iterable ile çalışır.\n",
    "    print(i) # buradaki i her elemanı tek tek dolaşır. \n",
    "    # en son değer i üzerinde tanımlı olarak kalır. burada i = 0 olmuş olur."
   ]
  },
  {
   "cell_type": "code",
   "execution_count": 4,
   "metadata": {},
   "outputs": [
    {
     "data": {
      "text/plain": [
       "'o'"
      ]
     },
     "execution_count": 4,
     "metadata": {},
     "output_type": "execute_result"
    }
   ],
   "source": [
    "i"
   ]
  },
  {
   "cell_type": "code",
   "execution_count": 3,
   "metadata": {},
   "outputs": [
    {
     "name": "stdout",
     "output_type": "stream",
     "text": [
      "t - tt\n",
      "e - ee\n",
      "c - cc\n",
      "h - hh\n",
      "p - pp\n",
      "r - rr\n",
      "o - oo\n"
     ]
    }
   ],
   "source": [
    "for i in \"techpro\": # for döngüsü iterable ile çalışır.\n",
    "    print(i, \"-\", i * 2) \n",
    "# for i in \"iterable type\": bu bir kalıptır i yerine istediğimizi yazabiliriz"
   ]
  },
  {
   "cell_type": "code",
   "execution_count": 5,
   "metadata": {},
   "outputs": [
    {
     "name": "stdout",
     "output_type": "stream",
     "text": [
      "1\n",
      "4\n",
      "9\n",
      "16\n",
      "25\n"
     ]
    }
   ],
   "source": [
    "liste = [1, 2, 3, 4, 5]\n",
    "\n",
    "for i in liste:\n",
    "    print(i ** 2)"
   ]
  },
  {
   "cell_type": "code",
   "execution_count": 6,
   "metadata": {},
   "outputs": [
    {
     "data": {
      "text/plain": [
       "True"
      ]
     },
     "execution_count": 6,
     "metadata": {},
     "output_type": "execute_result"
    }
   ],
   "source": [
    "\"e\" in \"hello\" # burada hello str içinde e var mı diye sorgulamaktır. sonuç bool'dur."
   ]
  },
  {
   "cell_type": "code",
   "execution_count": 7,
   "metadata": {},
   "outputs": [
    {
     "data": {
      "text/plain": [
       "False"
      ]
     },
     "execution_count": 7,
     "metadata": {},
     "output_type": "execute_result"
    }
   ],
   "source": [
    "\"a\" in \"hello\" # burada hello str içinde e var mı diye bak demektir. sonuç bool'dur."
   ]
  },
  {
   "cell_type": "code",
   "execution_count": 8,
   "metadata": {},
   "outputs": [
    {
     "name": "stdout",
     "output_type": "stream",
     "text": [
      "1\n",
      "4\n",
      "9\n",
      "16\n",
      "25\n"
     ]
    }
   ],
   "source": [
    "x = 0\n",
    "\n",
    "while x < len(liste):\n",
    "    \n",
    "    print(liste[x] ** 2)\n",
    "\n",
    "    x += 1 "
   ]
  },
  {
   "cell_type": "code",
   "execution_count": 13,
   "metadata": {},
   "outputs": [],
   "source": [
    "isimler_listesi = [\"irem\", \"cihan\", \"bahar\", \"metehan\"]"
   ]
  },
  {
   "cell_type": "code",
   "execution_count": 14,
   "metadata": {},
   "outputs": [
    {
     "name": "stdout",
     "output_type": "stream",
     "text": [
      "Irem\n",
      "Cihan\n",
      "Bahar\n",
      "Metehan\n"
     ]
    }
   ],
   "source": [
    "for i in isimler_listesi: \n",
    "    print(i.capitalize())\n",
    "# tüm elemanların baş harflerini büyütmüş oluruz isimler_listesi içinde tek tek gezerek\n",
    "# ama burada isimler listesinde bir kalıcı değişiklik yapmıyor"
   ]
  },
  {
   "cell_type": "code",
   "execution_count": 15,
   "metadata": {},
   "outputs": [
    {
     "data": {
      "text/plain": [
       "['irem', 'cihan', 'bahar', 'metehan']"
      ]
     },
     "execution_count": 15,
     "metadata": {},
     "output_type": "execute_result"
    }
   ],
   "source": [
    "isimler_listesi # burada da görüldüğü gibi liste orjinal halinde kalmaya devam eder. \n",
    "# herhangi bir atama yapılmadığı için."
   ]
  },
  {
   "cell_type": "code",
   "execution_count": 24,
   "metadata": {},
   "outputs": [
    {
     "name": "stdout",
     "output_type": "stream",
     "text": [
      "T-e-c-h-p-r-o-"
     ]
    }
   ],
   "source": [
    "# \"Techpro\" ifadesini T-e-c-h-p-r-o şeklinde yazdırın.\n",
    "for i in \"Techpro\":\n",
    "    print(i, end = \"-\")\n",
    "# burada en sonada bir tire ekliyor ve bundan burada kurtulamadık. aşağıdaki gibi boş str\n",
    "# oluşturarak istenilen işleme ulaşabiliyoruz."
   ]
  },
  {
   "cell_type": "code",
   "execution_count": 33,
   "metadata": {},
   "outputs": [
    {
     "name": "stdout",
     "output_type": "stream",
     "text": [
      "T-e-c-h-p-r-o\n"
     ]
    }
   ],
   "source": [
    "# \"Techpro\" ifadesini T-e-c-h-p-r-o şeklinde yazdırın.\n",
    "empty_str = \"\" \n",
    "\n",
    "# bu şekilde bir boş srting oluşturularak istenilen sonuca gitmemiz kolaylaşabilir.\n",
    "\n",
    "for i in \"Techpro\":\n",
    "\n",
    "    empty_str += i + \"-\" # burada  str toplama işleminden yararlanıyoruz.\n",
    "\n",
    "print(empty_str.rstrip(\" - \"))\n"
   ]
  },
  {
   "cell_type": "code",
   "execution_count": 34,
   "metadata": {},
   "outputs": [
    {
     "data": {
      "text/plain": [
       "{'name': 'dilek', 'age': 26, 'job': 'data_scientist'}"
      ]
     },
     "execution_count": 34,
     "metadata": {},
     "output_type": "execute_result"
    }
   ],
   "source": [
    "dict_1 = {\"name\": \"dilek\", \"age\": 26, \"job\": \"data_scientist\"}\n",
    "dict_1"
   ]
  },
  {
   "cell_type": "code",
   "execution_count": 35,
   "metadata": {},
   "outputs": [
    {
     "name": "stdout",
     "output_type": "stream",
     "text": [
      "name\n",
      "age\n",
      "job\n"
     ]
    }
   ],
   "source": [
    "for i in dict_1: # burada key lere ulaşabiliriz.\n",
    "    print(i)"
   ]
  },
  {
   "cell_type": "code",
   "execution_count": 36,
   "metadata": {},
   "outputs": [
    {
     "name": "stdout",
     "output_type": "stream",
     "text": [
      "dilek\n",
      "26\n",
      "data_scientist\n"
     ]
    }
   ],
   "source": [
    "for i in dict_1.values(): # value değerlere bu şekilde ulaşılır.\n",
    "    print(i)"
   ]
  },
  {
   "cell_type": "code",
   "execution_count": 37,
   "metadata": {},
   "outputs": [
    {
     "name": "stdout",
     "output_type": "stream",
     "text": [
      "('name', 'dilek')\n",
      "('age', 26)\n",
      "('job', 'data_scientist')\n"
     ]
    }
   ],
   "source": [
    "for i in dict_1.items(): # bu şekilde de hem key hem value değerlere ulaşılır.\n",
    "    print(i)"
   ]
  },
  {
   "cell_type": "code",
   "execution_count": 38,
   "metadata": {},
   "outputs": [
    {
     "name": "stdout",
     "output_type": "stream",
     "text": [
      "name**dilek\n",
      "age**26\n",
      "job**data_scientist\n"
     ]
    }
   ],
   "source": [
    "for i, j in dict_1.items():\n",
    "    print(i, j, sep = \"**\")\n",
    "# eğer ulaşacağımız tip uygun ise aynı anda ikili olarak for ile gezinebiliyoruz.\n",
    "# burada i keylere j ise value değerler içinde dolaşır ve bize çıktı olarak döndürür."
   ]
  },
  {
   "cell_type": "code",
   "execution_count": 39,
   "metadata": {},
   "outputs": [
    {
     "name": "stdout",
     "output_type": "stream",
     "text": [
      "key: name, value: dilek\n",
      "key: age, value: 26\n",
      "key: job, value: data_scientist\n"
     ]
    }
   ],
   "source": [
    "for i, j in dict_1.items():\n",
    "    print(f\"key: {i}, value: {j}\")"
   ]
  },
  {
   "cell_type": "code",
   "execution_count": 40,
   "metadata": {},
   "outputs": [
    {
     "data": {
      "text/plain": [
       "{'name': 'dilek', 'surname': 'yılmaz', 'age': 26, 'job': 'data_scientist'}"
      ]
     },
     "execution_count": 40,
     "metadata": {},
     "output_type": "execute_result"
    }
   ],
   "source": [
    "dict_2 = {\"name\": \"dilek\",\"surname\": \"yılmaz\", \"age\": 26, \"job\": \"data_scientist\"}\n",
    "dict_2"
   ]
  },
  {
   "cell_type": "code",
   "execution_count": 41,
   "metadata": {},
   "outputs": [
    {
     "name": "stdout",
     "output_type": "stream",
     "text": [
      "key: name, value: dilek\n",
      "key: surname, value: yılmaz\n",
      "key: age, value: 26\n",
      "key: job, value: data_scientist\n"
     ]
    }
   ],
   "source": [
    "for i, j in dict_2.items(): # görüldüğü gibi çıktı karışık gözüküyor.\n",
    "    print(f\"key: {i}, value: {j}\")"
   ]
  },
  {
   "cell_type": "code",
   "execution_count": 42,
   "metadata": {},
   "outputs": [
    {
     "name": "stdout",
     "output_type": "stream",
     "text": [
      "key: name      , value:      dilek     \n",
      "key: surname   , value:     yılmaz     \n",
      "key: age       , value:       26       \n",
      "key: job       , value: data_scientist \n"
     ]
    }
   ],
   "source": [
    "for i, j in dict_2.items(): \n",
    "    print(f\"key: {i:<10}, value: {j:^15}\")\n",
    "# burada i:<10 ifadesi 10 karakterlik alan aç ve oradaki < işareti de sola yasla demektir.\n",
    "# eğer işaret > olsa idi 10 karakter aç sağa yasla demektir.\n",
    "# j:^15 dersek burada da 15 karaktere tamamla ve ^ işareti ilede merkeze alıyor.    \n"
   ]
  },
  {
   "cell_type": "code",
   "execution_count": 43,
   "metadata": {},
   "outputs": [
    {
     "ename": "TypeError",
     "evalue": "'bool' object is not iterable",
     "output_type": "error",
     "traceback": [
      "\u001b[1;31m---------------------------------------------------------------------------\u001b[0m",
      "\u001b[1;31mTypeError\u001b[0m                                 Traceback (most recent call last)",
      "Cell \u001b[1;32mIn[43], line 1\u001b[0m\n\u001b[1;32m----> 1\u001b[0m \u001b[38;5;28;43;01mfor\u001b[39;49;00m\u001b[43m \u001b[49m\u001b[43mi\u001b[49m\u001b[43m \u001b[49m\u001b[38;5;129;43;01min\u001b[39;49;00m\u001b[43m \u001b[49m\u001b[38;5;28;43;01mTrue\u001b[39;49;00m\u001b[43m:\u001b[49m\u001b[43m \u001b[49m\u001b[38;5;66;43;03m# bool iterable olmadığından hata alınır.\u001b[39;49;00m\n\u001b[0;32m      2\u001b[0m \u001b[43m    \u001b[49m\u001b[38;5;28;43mprint\u001b[39;49m\u001b[43m(\u001b[49m\u001b[43mi\u001b[49m\u001b[43m)\u001b[49m\n",
      "\u001b[1;31mTypeError\u001b[0m: 'bool' object is not iterable"
     ]
    }
   ],
   "source": [
    "for i in True: # bool iterable olmadığından hata alınır. for iterable ile çalışır.\n",
    "    print(i)"
   ]
  },
  {
   "cell_type": "code",
   "execution_count": null,
   "metadata": {},
   "outputs": [],
   "source": [
    "# liste_3 = [\"sonsuz döngü\"]\n",
    "\n",
    "for i in liste_3:\n",
    "    print(i)\n",
    "    liste.append(i)\n",
    "# bu koda çalıştırılırsa sürekli sona ekleme yaparak sonsuza gider.\n",
    "# bu şekilde listeye ekleme yapılacağı zaman yeni bir boş liste oluşturularak\n",
    "# ekleme ona yapılır. bu şekilde döngü sonsuza gitmez."
   ]
  },
  {
   "cell_type": "code",
   "execution_count": 53,
   "metadata": {},
   "outputs": [
    {
     "name": "stdout",
     "output_type": "stream",
     "text": [
      "1  hoca bize ceza verdi.\n",
      "2  hoca bize ceza verdi.\n",
      "3  hoca bize ceza verdi.\n",
      "4  hoca bize ceza verdi.\n",
      "5  hoca bize ceza verdi.\n",
      "6  hoca bize ceza verdi.\n",
      "7  hoca bize ceza verdi.\n",
      "8  hoca bize ceza verdi.\n",
      "9  hoca bize ceza verdi.\n",
      "10 hoca bize ceza verdi.\n",
      "11 hoca bize ceza verdi.\n",
      "12 hoca bize ceza verdi.\n",
      "13 hoca bize ceza verdi.\n",
      "14 hoca bize ceza verdi.\n",
      "15 hoca bize ceza verdi.\n",
      "16 hoca bize ceza verdi.\n",
      "17 hoca bize ceza verdi.\n",
      "18 hoca bize ceza verdi.\n",
      "19 hoca bize ceza verdi.\n",
      "20 hoca bize ceza verdi.\n",
      "21 hoca bize ceza verdi.\n",
      "22 hoca bize ceza verdi.\n",
      "23 hoca bize ceza verdi.\n",
      "24 hoca bize ceza verdi.\n",
      "25 hoca bize ceza verdi.\n",
      "26 hoca bize ceza verdi.\n",
      "27 hoca bize ceza verdi.\n",
      "28 hoca bize ceza verdi.\n",
      "29 hoca bize ceza verdi.\n",
      "30 hoca bize ceza verdi.\n",
      "31 hoca bize ceza verdi.\n",
      "32 hoca bize ceza verdi.\n",
      "33 hoca bize ceza verdi.\n",
      "34 hoca bize ceza verdi.\n",
      "35 hoca bize ceza verdi.\n",
      "36 hoca bize ceza verdi.\n",
      "37 hoca bize ceza verdi.\n",
      "38 hoca bize ceza verdi.\n",
      "39 hoca bize ceza verdi.\n",
      "40 hoca bize ceza verdi.\n",
      "41 hoca bize ceza verdi.\n",
      "42 hoca bize ceza verdi.\n",
      "43 hoca bize ceza verdi.\n",
      "44 hoca bize ceza verdi.\n",
      "45 hoca bize ceza verdi.\n",
      "46 hoca bize ceza verdi.\n",
      "47 hoca bize ceza verdi.\n",
      "48 hoca bize ceza verdi.\n",
      "49 hoca bize ceza verdi.\n",
      "50 hoca bize ceza verdi.\n"
     ]
    }
   ],
   "source": [
    "for i in range(1,51):\n",
    "    print(f\"{i:<2} hoca bize ceza verdi.\")\n"
   ]
  },
  {
   "cell_type": "markdown",
   "metadata": {},
   "source": [
    "Ödev1: Kullanıcıdan 1(dahil) ve 9(dahil) bir sayı isteyin. Bu sayının çarpım tablosunu oluşturun."
   ]
  },
  {
   "cell_type": "markdown",
   "metadata": {},
   "source": [
    "Ödev1: Kullanıcıdan 1(dahil) ve 9(dahil) bir sayı isteyin. Bu sayının çarpım tablosunu oluşturun.\n",
    "Kullanıcı bu aralıktan farklı bir değer girdiyse tekrar doğru değer girmesini isteyin."
   ]
  },
  {
   "cell_type": "code",
   "execution_count": 4,
   "metadata": {},
   "outputs": [
    {
     "name": "stdout",
     "output_type": "stream",
     "text": [
      "Çarpım Tablosunda Gösterimi: 6 x 1  = 6\n",
      "Çarpım Tablosunda Gösterimi: 6 x 2  = 12\n",
      "Çarpım Tablosunda Gösterimi: 6 x 3  = 18\n",
      "Çarpım Tablosunda Gösterimi: 6 x 4  = 24\n",
      "Çarpım Tablosunda Gösterimi: 6 x 5  = 30\n",
      "Çarpım Tablosunda Gösterimi: 6 x 6  = 36\n",
      "Çarpım Tablosunda Gösterimi: 6 x 7  = 42\n",
      "Çarpım Tablosunda Gösterimi: 6 x 8  = 48\n",
      "Çarpım Tablosunda Gösterimi: 6 x 9  = 54\n",
      "Çarpım Tablosunda Gösterimi: 6 x 10 = 60\n"
     ]
    }
   ],
   "source": [
    "x = int(input(\"Lütfen 1 ile 9(dahil) arasında bir tam sayı giriniz.\"))\n",
    "\n",
    "if 1 <= x <= 9:\n",
    "\n",
    "    for i in range(1,11):\n",
    "        print(f\"Çarpım Tablosunda Gösterimi: {x} x {i:<3}= {x * i}\")\n",
    "else:\n",
    "    print(\"girdiğiniz sayı 1 ile 9 arasında değil. \")"
   ]
  },
  {
   "cell_type": "code",
   "execution_count": 22,
   "metadata": {},
   "outputs": [
    {
     "name": "stdout",
     "output_type": "stream",
     "text": [
      "Geçersiz Değer Girdiniz Lütfen Tekrar Giriniz.\n",
      "Çarpım Tablosunda Gösterimi: 7 x 1  = 7\n",
      "Çarpım Tablosunda Gösterimi: 7 x 2  = 14\n",
      "Çarpım Tablosunda Gösterimi: 7 x 3  = 21\n",
      "Çarpım Tablosunda Gösterimi: 7 x 4  = 28\n",
      "Çarpım Tablosunda Gösterimi: 7 x 5  = 35\n",
      "Çarpım Tablosunda Gösterimi: 7 x 6  = 42\n",
      "Çarpım Tablosunda Gösterimi: 7 x 7  = 49\n",
      "Çarpım Tablosunda Gösterimi: 7 x 8  = 56\n",
      "Çarpım Tablosunda Gösterimi: 7 x 9  = 63\n",
      "Çarpım Tablosunda Gösterimi: 7 x 10 = 70\n"
     ]
    }
   ],
   "source": [
    "while True: # bu şekilde iç içe döngü kullanımına nested loops adı verilir.\n",
    "    x = int(input(\"Lütfen 1 ile 9(dahil) arasında bir tam sayı giriniz.\"))\n",
    "    \n",
    "    if 0 < x < 10:\n",
    "\n",
    "        for i in range(1,11):\n",
    "            print(f\"Çarpım Tablosunda Gösterimi: {x} x {i:<3}= {x * i}\")\n",
    "        break\n",
    "\n",
    "    else:\n",
    "        print(\"Geçersiz Değer Girdiniz Lütfen Tekrar Giriniz.\")"
   ]
  },
  {
   "cell_type": "code",
   "execution_count": 5,
   "metadata": {},
   "outputs": [
    {
     "name": "stdout",
     "output_type": "stream",
     "text": [
      "girdiğiniz sayı 1 ile 9 arasında değil. Tekrar sayı girin.\n",
      "7 x 1  = 7\n",
      "7 x 2  = 14\n",
      "7 x 3  = 21\n",
      "7 x 4  = 28\n",
      "7 x 5  = 35\n",
      "7 x 6  = 42\n",
      "7 x 7  = 49\n",
      "7 x 8  = 56\n",
      "7 x 9  = 63\n",
      "7 x 10 = 70\n"
     ]
    }
   ],
   "source": [
    "#ödev 2 alternatif çözüm nested loops kullanmadan çözüm.\n",
    "while True:\n",
    "\n",
    "    number = int(input(\"bir sayı girin.1 ve 9 arasında\"))\n",
    "\n",
    "    if 1 <= number <= 9:\n",
    "\n",
    "        break\n",
    "\n",
    "    else:\n",
    "        print(\"girdiğiniz sayı 1 ile 9 arasında değil. Tekrar sayı girin.\")\n",
    "\n",
    "for i in range(1,11):\n",
    "\n",
    "    print(f\"{number} x {i:<2} = {number * i}\")"
   ]
  },
  {
   "cell_type": "code",
   "execution_count": 11,
   "metadata": {},
   "outputs": [
    {
     "name": "stdout",
     "output_type": "stream",
     "text": [
      "girdiğiniz sayı 1 ile 9 arasında değil. Tekrar sayı girin.\n",
      "girdiğiniz sayı 1 ile 9 arasında değil. Tekrar sayı girin.\n",
      "girdiğiniz sayı 1 ile 9 arasında değil. Tekrar sayı girin.\n",
      "Deneme hakkınız bitmiştir.\n"
     ]
    }
   ],
   "source": [
    "#ödev 2 çözüm 3 deneme hakkı = 3\n",
    "sayac = 0\n",
    "\n",
    "while True:\n",
    "\n",
    "    number = int(input(\"bir sayı girin.1 ve 9 arasında\"))\n",
    "\n",
    "    sayac += 1\n",
    "\n",
    "    if 1 <= number <= 9:\n",
    "        for i in range(1,11):\n",
    "\n",
    "            print(f\"{number} x {i:<2} = {number * i}\")\n",
    "        break\n",
    "\n",
    "    else:\n",
    "        print(\"girdiğiniz sayı 1 ile 9 arasında değil. Tekrar sayı girin.\")\n",
    "    \n",
    "    if sayac == 3:\n",
    "        print(\"Deneme hakkınız bitmiştir.\")\n",
    "        break\n",
    "\n"
   ]
  },
  {
   "cell_type": "code",
   "execution_count": 13,
   "metadata": {},
   "outputs": [
    {
     "name": "stdout",
     "output_type": "stream",
     "text": [
      "sayıların toplamı: 1275'dır.\n"
     ]
    }
   ],
   "source": [
    "# 1 den 50(dahil)'ye kadar olan sayıların toplamını bulunuz. (n * (n + 1)) / 2 formulü budur.\n",
    "toplam = 0\n",
    "for i in range(1,51):\n",
    "    toplam += i\n",
    "print(f\"sayıların toplamı: {toplam}'dır.\")"
   ]
  },
  {
   "cell_type": "code",
   "execution_count": 14,
   "metadata": {},
   "outputs": [
    {
     "data": {
      "text/plain": [
       "1275"
      ]
     },
     "execution_count": 14,
     "metadata": {},
     "output_type": "execute_result"
    }
   ],
   "source": [
    "sum(range(1,51)) # sum fonksiyonu iterable'larla çalışır içine range ile verdiğimiz \n",
    "# değerleri sırayla teker teker toplayarak bize toplamını verir.\n",
    "# yani burada 1 den başlayıp 50 ye kadar toplar ve sonucu verir."
   ]
  },
  {
   "cell_type": "code",
   "execution_count": 15,
   "metadata": {},
   "outputs": [
    {
     "data": {
      "text/plain": [
       "15"
      ]
     },
     "execution_count": 15,
     "metadata": {},
     "output_type": "execute_result"
    }
   ],
   "source": [
    "sum([1, 2, 3, 4, 5]) # liste iterable'dır bu yüzden yine işlem yapar."
   ]
  },
  {
   "cell_type": "code",
   "execution_count": 16,
   "metadata": {},
   "outputs": [
    {
     "data": {
      "text/plain": [
       "15"
      ]
     },
     "execution_count": 16,
     "metadata": {},
     "output_type": "execute_result"
    }
   ],
   "source": [
    "sum((1, 2, 3, 4, 5)) # tuple iterable'dır bu yüzden yine işlem yapar."
   ]
  },
  {
   "cell_type": "code",
   "execution_count": 17,
   "metadata": {},
   "outputs": [
    {
     "data": {
      "text/plain": [
       "15"
      ]
     },
     "execution_count": 17,
     "metadata": {},
     "output_type": "execute_result"
    }
   ],
   "source": [
    "sum({1, 2, 3, 4, 5}) # kümeler iterable'dır bu yüzden yine işlem yapar."
   ]
  },
  {
   "cell_type": "code",
   "execution_count": 19,
   "metadata": {},
   "outputs": [
    {
     "ename": "TypeError",
     "evalue": "unsupported operand type(s) for +: 'int' and 'str'",
     "output_type": "error",
     "traceback": [
      "\u001b[1;31m---------------------------------------------------------------------------\u001b[0m",
      "\u001b[1;31mTypeError\u001b[0m                                 Traceback (most recent call last)",
      "Cell \u001b[1;32mIn[19], line 1\u001b[0m\n\u001b[1;32m----> 1\u001b[0m \u001b[38;5;28;43msum\u001b[39;49m\u001b[43m(\u001b[49m\u001b[43m[\u001b[49m\u001b[38;5;124;43m\"\u001b[39;49m\u001b[38;5;124;43ma\u001b[39;49m\u001b[38;5;124;43m\"\u001b[39;49m\u001b[43m,\u001b[49m\u001b[38;5;124;43m\"\u001b[39;49m\u001b[38;5;124;43mb\u001b[39;49m\u001b[38;5;124;43m\"\u001b[39;49m\u001b[43m]\u001b[49m\u001b[43m)\u001b[49m \n\u001b[0;32m      2\u001b[0m \u001b[38;5;66;03m#iterable olmasına rağmen matematiksel bir işlem olduğundan hata verir işlemi yapmaz.\u001b[39;00m\n\u001b[0;32m      3\u001b[0m \u001b[38;5;66;03m# sum fonksiyonunun default değeri 0 dır. bu toplama işlemini 0'ın üzerine yapar.\u001b[39;00m\n\u001b[0;32m      4\u001b[0m \u001b[38;5;66;03m# default ınt olduğundan str toplayamaz.\u001b[39;00m\n",
      "\u001b[1;31mTypeError\u001b[0m: unsupported operand type(s) for +: 'int' and 'str'"
     ]
    }
   ],
   "source": [
    "sum([\"a\",\"b\"]) \n",
    "#iterable olmasına rağmen matematiksel bir işlem olduğundan hata verir işlemi yapmaz.\n",
    "# sum fonksiyonunun default değeri 0 dır. bu toplama işlemini 0'ın üzerine yapar.\n",
    "# default ınt olduğundan str toplayamaz. zaten hata olarak bize onu verir."
   ]
  },
  {
   "cell_type": "code",
   "execution_count": 20,
   "metadata": {},
   "outputs": [
    {
     "data": {
      "text/plain": [
       "115"
      ]
     },
     "execution_count": 20,
     "metadata": {},
     "output_type": "execute_result"
    }
   ],
   "source": [
    "sum([1, 2, 3, 4, 5],100) # burada yazdığımız ikinci ifade ile default değerini değiştiriyoruz.\n",
    "# bu yüzden toplama işlemine 100'den başlayarak sonuç verir."
   ]
  },
  {
   "cell_type": "code",
   "execution_count": 21,
   "metadata": {},
   "outputs": [
    {
     "data": {
      "text/plain": [
       "650"
      ]
     },
     "execution_count": 21,
     "metadata": {},
     "output_type": "execute_result"
    }
   ],
   "source": [
    "sum(range(0,51,2))"
   ]
  },
  {
   "cell_type": "markdown",
   "metadata": {},
   "source": [
    "## break, continue "
   ]
  },
  {
   "cell_type": "code",
   "execution_count": 23,
   "metadata": {},
   "outputs": [
    {
     "data": {
      "text/plain": [
       "[1, 2, 3, 4, 5]"
      ]
     },
     "execution_count": 23,
     "metadata": {},
     "output_type": "execute_result"
    }
   ],
   "source": [
    "liste_1 = [1, 2, 3, 4, 5]\n",
    "liste_1"
   ]
  },
  {
   "cell_type": "code",
   "execution_count": 24,
   "metadata": {},
   "outputs": [
    {
     "name": "stdout",
     "output_type": "stream",
     "text": [
      "1\n",
      "4\n"
     ]
    }
   ],
   "source": [
    "# 3 ve 3'ün katı olan sayıya denk gelindiğinde kod bitsin \n",
    "# diğer durumlarda sayıların karesini yazdırın.\n",
    "for i in liste_1: \n",
    "    if i % 3 == 0:\n",
    "        break\n",
    "    else:\n",
    "        print(i ** 2)"
   ]
  },
  {
   "cell_type": "code",
   "execution_count": 25,
   "metadata": {},
   "outputs": [
    {
     "name": "stdout",
     "output_type": "stream",
     "text": [
      "1\n",
      "4\n",
      "16\n",
      "25\n"
     ]
    }
   ],
   "source": [
    "# 3 ve 3'ün katı olan sayıya denk gelindiğinde kod devam etsin \n",
    "# ama 3 ve 3'ün katına işlem yapmasın. \n",
    "# diğer durumlarda sayıların karesini yazdırın.\n",
    "for i in liste_1: \n",
    "    if i % 3 == 0:\n",
    "        continue\n",
    "    else:\n",
    "        print(i ** 2)"
   ]
  },
  {
   "cell_type": "code",
   "execution_count": 29,
   "metadata": {},
   "outputs": [
    {
     "name": "stdout",
     "output_type": "stream",
     "text": [
      "650\n"
     ]
    }
   ],
   "source": [
    "# çift sayıların toplamı 1 ve 50 arası\n",
    "\n",
    "toplam = 0\n",
    "\n",
    "for i in range(1,51):\n",
    "\n",
    "    if i % 2 == 1:\n",
    "        continue\n",
    "    else:\n",
    "        toplam += i\n",
    "print(toplam)"
   ]
  },
  {
   "cell_type": "markdown",
   "metadata": {},
   "source": [
    "## zip()"
   ]
  },
  {
   "cell_type": "code",
   "execution_count": 31,
   "metadata": {},
   "outputs": [],
   "source": [
    "a = [\"apple\", \"orange\", \"lemon\"]\n",
    "b = [1, 2 , 3]"
   ]
  },
  {
   "cell_type": "code",
   "execution_count": 32,
   "metadata": {},
   "outputs": [
    {
     "data": {
      "text/plain": [
       "<zip at 0x182ef1f01c0>"
      ]
     },
     "execution_count": 32,
     "metadata": {},
     "output_type": "execute_result"
    }
   ],
   "source": [
    "zip(a,b) # işlemi yapar ama show edemeyiz range gibi show etmek için başına list yazarız.\n",
    "# zip fonksiyonu iterable objeleri birleştirir bize."
   ]
  },
  {
   "cell_type": "code",
   "execution_count": 33,
   "metadata": {},
   "outputs": [
    {
     "data": {
      "text/plain": [
       "[('apple', 1), ('orange', 2), ('lemon', 3)]"
      ]
     },
     "execution_count": 33,
     "metadata": {},
     "output_type": "execute_result"
    }
   ],
   "source": [
    "list(zip(a,b)) \n",
    "# görüldüğü gibi a ve b listesini ikili olarak eşledi ve tuple olarak bize ikilieri verdi."
   ]
  },
  {
   "cell_type": "code",
   "execution_count": 34,
   "metadata": {},
   "outputs": [],
   "source": [
    "x = \"Techpro\"\n",
    "y = \"Cihan\"\n",
    "z = \"Ayşe\""
   ]
  },
  {
   "cell_type": "code",
   "execution_count": 36,
   "metadata": {},
   "outputs": [
    {
     "data": {
      "text/plain": [
       "[('T', 'C', 'A'), ('e', 'i', 'y'), ('c', 'h', 'ş'), ('h', 'a', 'e')]"
      ]
     },
     "execution_count": 36,
     "metadata": {},
     "output_type": "execute_result"
    }
   ],
   "source": [
    "list(zip(x,y,z))\n",
    "# burada görüldüğü üzere zipleme işlemini len'i en küçük olana göre bize zipler.\n",
    "# burada en küçük z 4 elemanlı olduğundan 4' e kadar zipledi bize \n",
    "# diğer  fazla elemanlar dışarıda kalır. "
   ]
  },
  {
   "cell_type": "code",
   "execution_count": 37,
   "metadata": {},
   "outputs": [
    {
     "data": {
      "text/plain": [
       "[(1, 'apple'), (2, 'orange'), (3, 'lemon')]"
      ]
     },
     "execution_count": 37,
     "metadata": {},
     "output_type": "execute_result"
    }
   ],
   "source": [
    "list(zip(b,a)) \n",
    "# burada hangisini zip fonk. ilk yazarsak birleştirirken bizim ilk yazdığımız değişkenin elemanı\n",
    "# ilk eleman olur ziplenen durumda."
   ]
  },
  {
   "cell_type": "code",
   "execution_count": 38,
   "metadata": {},
   "outputs": [
    {
     "data": {
      "text/plain": [
       "{1: 'apple', 2: 'orange', 3: 'lemon'}"
      ]
     },
     "execution_count": 38,
     "metadata": {},
     "output_type": "execute_result"
    }
   ],
   "source": [
    "dict(zip(b,a)) # yapısı dict'e uygun olduğundan dict'e çeviredebiliriz."
   ]
  },
  {
   "cell_type": "code",
   "execution_count": 39,
   "metadata": {},
   "outputs": [],
   "source": [
    "meyveler = [\"apple\", \"orange\", \"apple\"]\n",
    "adet = [1, 2 , 3]"
   ]
  },
  {
   "cell_type": "code",
   "execution_count": 40,
   "metadata": {},
   "outputs": [
    {
     "data": {
      "text/plain": [
       "{'apple': 3, 'orange': 2}"
      ]
     },
     "execution_count": 40,
     "metadata": {},
     "output_type": "execute_result"
    }
   ],
   "source": [
    "dict(zip(meyveler,adet)) \n",
    "# burada birden fazla key olduğundan en sondaki key'i alır sadece keyler unique olduğundan\n",
    "# ve dict'imiz 2 elemanlı olur eşleşme aşağıdaki gibidir."
   ]
  },
  {
   "cell_type": "code",
   "execution_count": 41,
   "metadata": {},
   "outputs": [],
   "source": [
    "name = [\"irem\", \"betül\", \"Tülay\"]\n",
    "age = [25, 26, 27]\n",
    "job = [\"data_scientist\", \"python_developer\", \"data_analyst\"]"
   ]
  },
  {
   "cell_type": "code",
   "execution_count": 42,
   "metadata": {},
   "outputs": [
    {
     "data": {
      "text/plain": [
       "[('irem', 25, 'data_scientist'),\n",
       " ('betül', 26, 'python_developer'),\n",
       " ('Tülay', 27, 'data_analyst')]"
      ]
     },
     "execution_count": 42,
     "metadata": {},
     "output_type": "execute_result"
    }
   ],
   "source": [
    "list(zip(name,age,job)) # elimizdeki ayrı ayrı verileri birbiriyle eşitliyoruz.\n",
    "# zip birlşetirmeyi bize tuple olarak döndürür."
   ]
  },
  {
   "cell_type": "code",
   "execution_count": 43,
   "metadata": {},
   "outputs": [
    {
     "name": "stdout",
     "output_type": "stream",
     "text": [
      "('irem', 25, 'data_scientist')\n",
      "('betül', 26, 'python_developer')\n",
      "('Tülay', 27, 'data_analyst')\n"
     ]
    }
   ],
   "source": [
    "for item in zip(name,age,job):\n",
    "    print(item)"
   ]
  },
  {
   "cell_type": "code",
   "execution_count": 44,
   "metadata": {},
   "outputs": [
    {
     "name": "stdout",
     "output_type": "stream",
     "text": [
      "Name: irem  , Age: 25, Job: data_scientist\n",
      "Name: betül , Age: 26, Job: python_developer\n",
      "Name: Tülay , Age: 27, Job: data_analyst\n"
     ]
    }
   ],
   "source": [
    "for i, j, k in zip(name,age,job):\n",
    "    print(f\"Name: {i:<6}, Age: {j}, Job: {k}\")\n",
    "# bu işlemde i name j age ve k job'ın içinde gezer. ve işlemlerimizi ona göre yaparız.\n",
    "# for değişkeni yazarken eğer içinde 3 eleman varsa biz de 3 yazmalıyız aksi halde hata alırız.\n",
    "# burada i,j diye iki değişken yazsaydık mesela 3 eleman 2 değişken eşit olmayacağından hata olur."
   ]
  },
  {
   "cell_type": "code",
   "execution_count": 45,
   "metadata": {},
   "outputs": [
    {
     "name": "stdout",
     "output_type": "stream",
     "text": [
      "Name: irem  , Age: 25\n",
      "Name: betül , Age: 26\n",
      "Name: Tülay , Age: 27\n"
     ]
    }
   ],
   "source": [
    "for i, j, k in zip(name,age,job):\n",
    "    print(f\"Name: {i:<6}, Age: {j}\")\n",
    "    # bu şekilde gezinmemizi yaparız fakat kullanmak istemezsek print kısmında onu\n",
    "    # yazdırmayız ve diğer iki değişken üzerinden işlem yapabiliriz.\n",
    "    # görüldüğü gibi burada sadece name ve age değişkenini kullandık."
   ]
  },
  {
   "cell_type": "markdown",
   "metadata": {},
   "source": [
    "## enumarate()"
   ]
  },
  {
   "cell_type": "code",
   "execution_count": null,
   "metadata": {},
   "outputs": [],
   "source": [
    "# numaralandırma işlemi yapar bu fonksiyon\n"
   ]
  },
  {
   "cell_type": "code",
   "execution_count": 46,
   "metadata": {},
   "outputs": [
    {
     "data": {
      "text/plain": [
       "['irem', 'betül', 'Tülay']"
      ]
     },
     "execution_count": 46,
     "metadata": {},
     "output_type": "execute_result"
    }
   ],
   "source": [
    "name"
   ]
  },
  {
   "cell_type": "code",
   "execution_count": 47,
   "metadata": {},
   "outputs": [
    {
     "data": {
      "text/plain": [
       "<enumerate at 0x182ef20dc60>"
      ]
     },
     "execution_count": 47,
     "metadata": {},
     "output_type": "execute_result"
    }
   ],
   "source": [
    "enumerate(name) # bu işlemide görüntülemek için list fonksiyonu kullanılabilir."
   ]
  },
  {
   "cell_type": "code",
   "execution_count": 48,
   "metadata": {},
   "outputs": [
    {
     "data": {
      "text/plain": [
       "[(0, 'irem'), (1, 'betül'), (2, 'Tülay')]"
      ]
     },
     "execution_count": 48,
     "metadata": {},
     "output_type": "execute_result"
    }
   ],
   "source": [
    "list(enumerate(name)) \n",
    "# görüldüğü gibi tüm elemanlara default olarak 0'dan başlayarak numaralandırır.  "
   ]
  },
  {
   "cell_type": "code",
   "execution_count": 49,
   "metadata": {},
   "outputs": [
    {
     "data": {
      "text/plain": [
       "[(100, 'irem'), (101, 'betül'), (102, 'Tülay')]"
      ]
     },
     "execution_count": 49,
     "metadata": {},
     "output_type": "execute_result"
    }
   ],
   "source": [
    "list(enumerate(name, 100)) \n",
    "# burada fonksiyondan sıralandırmaya 100'den başlamasını söylüyoruz. \n",
    "# istediğimiz sayıdan başlatmak için yazım bu şekildedir.  "
   ]
  },
  {
   "cell_type": "code",
   "execution_count": 58,
   "metadata": {},
   "outputs": [],
   "source": [
    "# listenin min ve max değerleri arasındaki kayıp sayıları bulun.\n",
    "number_list = [48, 10, 11, 21, 36, 5, 6, 52, 28, 29,\n",
    "       53, 54, 45, 19, 20, 47, 55, 39, 41, 7,\n",
    "       9, 17, 26, 27, 42, 22, 37, 51, 46, 18,\n",
    "       44, 30, 34, 13, 15, 35, 33, 16, 50, 24]"
   ]
  },
  {
   "cell_type": "code",
   "execution_count": 65,
   "metadata": {},
   "outputs": [
    {
     "data": {
      "text/plain": [
       "{8, 12, 14, 23, 25, 31, 32, 38, 40, 43, 49}"
      ]
     },
     "execution_count": 65,
     "metadata": {},
     "output_type": "execute_result"
    }
   ],
   "source": [
    "# Çözüm-1\n",
    "number_list = [48, 10, 11, 21, 36, 5, 6, 52, 28, 29,\n",
    "       53, 54, 45, 19, 20, 47, 55, 39, 41, 7,\n",
    "       9, 17, 26, 27, 42, 22, 37, 51, 46, 18,\n",
    "       44, 30, 34, 13, 15, 35, 33, 16, 50, 24]\n",
    "\n",
    "full_set = set(range(min(number_list), max(number_list)))\n",
    "number_set = set(number_list)\n",
    "\n",
    "full_set - number_set\n",
    "\n"
   ]
  },
  {
   "cell_type": "code",
   "execution_count": 62,
   "metadata": {},
   "outputs": [
    {
     "name": "stdout",
     "output_type": "stream",
     "text": [
      "[8, 12, 14, 23, 25, 31, 32, 38, 40, 43, 49]\n"
     ]
    }
   ],
   "source": [
    "# Farklı yöntem\n",
    "\n",
    "kayıp_sayılar = []\n",
    "\n",
    "for i in range(min(number_list), max(number_list)):\n",
    "\n",
    "    if i not in number_list:\n",
    "        kayıp_sayılar.append(i)\n",
    "\n",
    "print(kayıp_sayılar)"
   ]
  },
  {
   "cell_type": "code",
   "execution_count": 64,
   "metadata": {},
   "outputs": [
    {
     "name": "stdout",
     "output_type": "stream",
     "text": [
      "[8, 12, 14, 23, 25, 31, 32, 38, 40, 43, 49]\n"
     ]
    }
   ],
   "source": [
    "# diğer farklı bir çözüm.\n",
    "kayıp_sayılar = []\n",
    "\n",
    "for i in range(min(number_list), max(number_list)):\n",
    "\n",
    "    if i in number_list:\n",
    "    \n",
    "        continue\n",
    "    \n",
    "    kayıp_sayılar.append(i)\n",
    "\n",
    "print(kayıp_sayılar)"
   ]
  },
  {
   "cell_type": "markdown",
   "metadata": {},
   "source": [
    "Ödev vermedik. Kimsede hatırlatmadı:smiley:\n",
    "Ödeviniz:\n",
    "Bir markete gittiniz. Markette her ürünün bir kod numarası var.\n",
    "1 : Elma 2 : Portakal 3 : Çilek 4 : Yumurta 5 : Havuç 6 : Armut ... vs. şeklinde.\n",
    "Kullanıcıya almak istediği ürünü sorunuz ve kod numarası ile seçim yaptırınız. Çıkış için \"q\" opsiyonunu sununuz. Kullanıcının her ürün seçimi sonrası \" .... elma sepete eklendi\" gibi bir dönüt veriniz. Kullanıcı ürün almaya devam ettikçe ürünleri bir listede toplayınız, almaktan vazgeçtiği durumda teşekkür edip, aldığı toplam ürünleri çıktı veren bir kod yazınız.\n",
    "Çıktı:\n",
    "Teşekkür Ederiz...\n",
    "Sepetinizde Bulunan Ürünler: elma, armut, yumurta ... vs."
   ]
  },
  {
   "cell_type": "code",
   "execution_count": 4,
   "metadata": {},
   "outputs": [
    {
     "name": "stdout",
     "output_type": "stream",
     "text": [
      "Sepetinize Avakado  Eklenmiştir. \n",
      "Sepetinize Portakal Eklenmiştir. \n",
      "Sepetinize Somon    Eklenmiştir. \n",
      "Sepetinize Roka     Eklenmiştir. \n",
      "\n",
      "Bizi Tercih Ettiğiniz İçin Teşekkürler. \n",
      "Sepetinizdeki Ürünler:\t['Avakado', 'Portakal', 'Somon', 'Roka']\n"
     ]
    }
   ],
   "source": [
    "ürün_liste = [\"Elma\",\"Armut\",\"Portakal\",\"Kivi\",\"Avakado\",\"Çilek\",\"Yumurta\",\"Havuç\",\"Roka\",\"Somon\"]\n",
    "ürünler = list(enumerate(ürün_liste,1))\n",
    "ürünler\n",
    "sepet_liste = []\n",
    "\n",
    "for i in ürünler:\n",
    "\n",
    "    i = input(f\"Lütfen Sepete Eklemek İstediğiniz Ürün Numarasını Seçiniz: {ürünler} veya ÇIKMAK için 'q'ya Basınız.\")\n",
    "\n",
    "    if i == \"q\":\n",
    "\n",
    "        break\n",
    "\n",
    "    sepet_liste.append(ürün_liste[int(i) - 1])\n",
    "\n",
    "    print(f\"Sepetinize {ürün_liste[int(i) - 1]:<8} Eklenmiştir. \")\n",
    "\n",
    "print(f\"\\nBizi Tercih Ettiğiniz İçin Teşekkürler. \\nSepetinizdeki Ürünler:\\t{sepet_liste}\")\n"
   ]
  },
  {
   "cell_type": "code",
   "execution_count": null,
   "metadata": {},
   "outputs": [],
   "source": [
    "# hocanın alternatif çözümü\n",
    "ürünler = {1 : \"Elma\", 2 : \"Portakal\", 3 : \"Çilek\", 4 : \"Yumurta\", 5 : \"Havuç\", 6 : \"Armut\"}\n",
    "\n",
    "print(\"Marketimize Hoş geldiniz\")\n",
    "\n",
    "print(\"\"\"Ürünlerimiz:\n",
    "1 : \"Elma\",\n",
    "2 : \"Portakal\",\n",
    "3 : \"Çilek\", \n",
    "4 : \"Yumurta\",\n",
    "5 : \"Havuç\",\n",
    "6 : \"Armut\"     \n",
    "      \"\"\")\n",
    "\n",
    "sepet = []\n",
    "\n",
    "while True:\n",
    "\n",
    "    x = input(\"Almak istediğiniz ürünün kodunu giriniz. Ürün eklemeyi bitirdiğinizde q tuşuna basınız.\").lower()\n",
    "\n",
    "    if x != \"q\":\n",
    "        sepet.append(ürünler[int(x)])\n",
    "        print(f\"Sepete {ürünler[int(x)]} eklendi\")\n",
    "\n",
    "    elif x == \"q\":\n",
    "        print(\"Bizi tercih ettiğiniz için teşekkürler\")\n",
    "        print(f\"Almış olduğunuz ürünler: {sepet}\")\n",
    "        break"
   ]
  },
  {
   "cell_type": "code",
   "execution_count": null,
   "metadata": {},
   "outputs": [],
   "source": []
  }
 ],
 "metadata": {
  "kernelspec": {
   "display_name": "Python 3",
   "language": "python",
   "name": "python3"
  },
  "language_info": {
   "codemirror_mode": {
    "name": "ipython",
    "version": 3
   },
   "file_extension": ".py",
   "mimetype": "text/x-python",
   "name": "python",
   "nbconvert_exporter": "python",
   "pygments_lexer": "ipython3",
   "version": "3.12.2"
  }
 },
 "nbformat": 4,
 "nbformat_minor": 2
}
