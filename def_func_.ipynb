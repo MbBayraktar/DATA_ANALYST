{
 "cells": [
  {
   "cell_type": "markdown",
   "metadata": {},
   "source": [
    "# functions"
   ]
  },
  {
   "cell_type": "markdown",
   "metadata": {},
   "source": [
    "içine parametre tanımlayabileceğimiz ve bu tanımlamalarla işlem yapabileceğimiz yapılardır."
   ]
  },
  {
   "cell_type": "markdown",
   "metadata": {},
   "source": [
    "def fonk_ismi(parametre/parametreler):\n",
    "    işlem satırı\n",
    "\n",
    "fonksiyon oluştururken kullanılacak yapı bu şekildedir."
   ]
  },
  {
   "cell_type": "code",
   "execution_count": 1,
   "metadata": {},
   "outputs": [],
   "source": [
    "def kareler_toplamı(x, y):\n",
    "    print(x ** 2 + y ** 2) # bu işlem fonksiyonu tanımlama işlemidir."
   ]
  },
  {
   "cell_type": "code",
   "execution_count": 2,
   "metadata": {},
   "outputs": [
    {
     "name": "stdout",
     "output_type": "stream",
     "text": [
      "25\n"
     ]
    }
   ],
   "source": [
    "kareler_toplamı(3, 4) # yukarıda tanımlanan fonksiyon bu şekilde çağırarak kullanırız.\n",
    "# aynı yerdede kullanılır önemli olan bu şekilde çağırarak kullanılmasıdır."
   ]
  },
  {
   "cell_type": "code",
   "execution_count": 1,
   "metadata": {},
   "outputs": [
    {
     "name": "stdout",
     "output_type": "stream",
     "text": [
      "74\n"
     ]
    }
   ],
   "source": [
    "def kareler_toplamı_2(x, y):\n",
    "\n",
    "    \"\"\"Bu Fonksiyon iki tane sayının karesini alır ve toplar\"\"\" \n",
    "# üstteki gibi yaparak fonksiyon açıklama yaparız. Buda func tanımında görülür.\n",
    "# func üstüne mouse tutulduğunda bu yazı görülür.\n",
    "\n",
    "    print(x ** 2 + y ** 2)\n",
    "\n",
    "kareler_toplamı_2(5, 7)"
   ]
  },
  {
   "cell_type": "code",
   "execution_count": 3,
   "metadata": {},
   "outputs": [
    {
     "ename": "NameError",
     "evalue": "name 'kareler_toplamı_2' is not defined",
     "output_type": "error",
     "traceback": [
      "\u001b[1;31m---------------------------------------------------------------------------\u001b[0m",
      "\u001b[1;31mNameError\u001b[0m                                 Traceback (most recent call last)",
      "Cell \u001b[1;32mIn[3], line 1\u001b[0m\n\u001b[1;32m----> 1\u001b[0m \u001b[43mkareler_toplamı_2\u001b[49m() \u001b[38;5;66;03m# eğer gerekli parametreleri girmezsek hata alırız. \u001b[39;00m\n\u001b[0;32m      2\u001b[0m \u001b[38;5;66;03m# bunu python otomatik yapar\u001b[39;00m\n",
      "\u001b[1;31mNameError\u001b[0m: name 'kareler_toplamı_2' is not defined"
     ]
    }
   ],
   "source": [
    "kareler_toplamı_2() \n",
    "# eğer gerekli parametreleri girmezsek hata alırız. \n",
    "# bunu python otomatik yapar"
   ]
  },
  {
   "cell_type": "code",
   "execution_count": 6,
   "metadata": {},
   "outputs": [],
   "source": [
    "def kareler_toplamı_3(x, y):\n",
    "\n",
    "    print(x ** 2 + y ** 2)\n",
    "\n",
    "    \"\"\"Bu Fonksiyon iki tane sayının karesini alır ve toplar\"\"\" \n",
    "\n",
    "# burada açıklama kısmını def'in hemen altına yazmazsak kod hata vermez çalışır ama \n",
    "# açıklama görünmez. açıklama kısmını hemen def in altına yazmalıyız."
   ]
  },
  {
   "cell_type": "code",
   "execution_count": null,
   "metadata": {},
   "outputs": [],
   "source": [
    "kareler_toplamı_3()"
   ]
  },
  {
   "cell_type": "code",
   "execution_count": 7,
   "metadata": {},
   "outputs": [],
   "source": [
    "def neset_baba(): # func ın parametre kısmını boş bırakabiliriz.\n",
    "    print(\"kadınlar insandır biz insanoğlu\")"
   ]
  },
  {
   "cell_type": "code",
   "execution_count": 8,
   "metadata": {},
   "outputs": [
    {
     "name": "stdout",
     "output_type": "stream",
     "text": [
      "kadınlar insandır biz insanoğlu\n"
     ]
    }
   ],
   "source": [
    "neset_baba() # direk çağırdımızda fonksiyonu bize içindeki işlemi verir.\n",
    "# içinde parametre olmayan func a parametre verirsek hata alırız.\n",
    "# func tanımlarken içine yazılan x ve y parametredir\n",
    "# func çağırırken kullandığım değerlerde argümandır."
   ]
  },
  {
   "cell_type": "code",
   "execution_count": 10,
   "metadata": {},
   "outputs": [],
   "source": [
    "def calculator(num1,opr,num2):\n",
    "\n",
    "    if opr == \"+\":\n",
    "        print(num1 + num2)\n",
    "    elif opr == \"-\":\n",
    "        print(num1 - num2)\n",
    "    elif opr == \"x\":\n",
    "        print(num1 * num2)\n",
    "    elif opr == \"/\":\n",
    "        print(num1 / num2)\n",
    "    else:\n",
    "        print(\"Hatalı operatör girişi.\")"
   ]
  },
  {
   "cell_type": "code",
   "execution_count": 11,
   "metadata": {},
   "outputs": [
    {
     "name": "stdout",
     "output_type": "stream",
     "text": [
      "20\n"
     ]
    }
   ],
   "source": [
    "calculator(5,\"x\",4) \n",
    "# burada bizim parametremize göre değerler girilmez ise giriş yanlış olur.\n",
    "# değerler genel olarak doğru olsada sıralama doğru olmadığından else dönüşü yapar."
   ]
  },
  {
   "cell_type": "code",
   "execution_count": 12,
   "metadata": {},
   "outputs": [
    {
     "name": "stdout",
     "output_type": "stream",
     "text": [
      "Hatalı operatör girişi.\n"
     ]
    }
   ],
   "source": [
    "calculator(\"x\", 4, 5) # burada sıralı girişin önemini görüyoruz."
   ]
  },
  {
   "cell_type": "code",
   "execution_count": 14,
   "metadata": {},
   "outputs": [
    {
     "name": "stdout",
     "output_type": "stream",
     "text": [
      "techpro\n"
     ]
    }
   ],
   "source": [
    "calculator(\"tech\", \"+\", \"pro\")\n",
    "# burada işlemi yapar ve iki stringi toplayarak birleştirip yazar.\n",
    "# fakat burada önemli olan string arasında yapılamayan işlemler burada da yapılamaz hata verir."
   ]
  },
  {
   "cell_type": "code",
   "execution_count": 15,
   "metadata": {},
   "outputs": [],
   "source": [
    "def my_len(x):\n",
    "\n",
    "    \"\"\"len fonksiyonunu beğenmediğim için kendi fonksiyonumu yazıyorum. \n",
    "    Bu fonksiyon bir iterable ın uzunluğunu verir.\"\"\"\n",
    "\n",
    "    sayac = 0\n",
    "\n",
    "    for i in x: \n",
    "    # burada fonksiyona iterable olduğunu belirtmedik ama for iterable ile çalıştığından\n",
    "    # python x in iterable olması gerektiğini anladı. iterable girmezsek hata verdirir.\n",
    "        sayac += 1\n",
    "\n",
    "    print(sayac)"
   ]
  },
  {
   "cell_type": "code",
   "execution_count": 16,
   "metadata": {},
   "outputs": [
    {
     "name": "stdout",
     "output_type": "stream",
     "text": [
      "7\n"
     ]
    }
   ],
   "source": [
    "my_len(\"techpro\")"
   ]
  },
  {
   "cell_type": "code",
   "execution_count": 17,
   "metadata": {},
   "outputs": [
    {
     "ename": "TypeError",
     "evalue": "'int' object is not iterable",
     "output_type": "error",
     "traceback": [
      "\u001b[1;31m---------------------------------------------------------------------------\u001b[0m",
      "\u001b[1;31mTypeError\u001b[0m                                 Traceback (most recent call last)",
      "Cell \u001b[1;32mIn[17], line 1\u001b[0m\n\u001b[1;32m----> 1\u001b[0m \u001b[43mmy_len\u001b[49m\u001b[43m(\u001b[49m\u001b[38;5;241;43m34567\u001b[39;49m\u001b[43m)\u001b[49m\n",
      "Cell \u001b[1;32mIn[15], line 8\u001b[0m, in \u001b[0;36mmy_len\u001b[1;34m(x)\u001b[0m\n\u001b[0;32m      3\u001b[0m \u001b[38;5;250m\u001b[39m\u001b[38;5;124;03m\"\"\"len fonksiyonunu beğenmediğim için kendi fonksiyonumu yazıyorum. \u001b[39;00m\n\u001b[0;32m      4\u001b[0m \u001b[38;5;124;03mBu fonksiyon bir iterable ın uzunluğunu verir.\"\"\"\u001b[39;00m\n\u001b[0;32m      6\u001b[0m sayac \u001b[38;5;241m=\u001b[39m \u001b[38;5;241m0\u001b[39m\n\u001b[1;32m----> 8\u001b[0m \u001b[43m\u001b[49m\u001b[38;5;28;43;01mfor\u001b[39;49;00m\u001b[43m \u001b[49m\u001b[43mi\u001b[49m\u001b[43m \u001b[49m\u001b[38;5;129;43;01min\u001b[39;49;00m\u001b[43m \u001b[49m\u001b[43mx\u001b[49m\u001b[43m:\u001b[49m\n\u001b[0;32m      9\u001b[0m \u001b[43m    \u001b[49m\u001b[43msayac\u001b[49m\u001b[43m \u001b[49m\u001b[38;5;241;43m+\u001b[39;49m\u001b[38;5;241;43m=\u001b[39;49m\u001b[43m \u001b[49m\u001b[38;5;241;43m1\u001b[39;49m\n\u001b[0;32m     11\u001b[0m \u001b[38;5;28mprint\u001b[39m(sayac)\n",
      "\u001b[1;31mTypeError\u001b[0m: 'int' object is not iterable"
     ]
    }
   ],
   "source": [
    "my_len(34567) # görüldüğü gibi hata verdi int'ler iterable olmadığı için"
   ]
  },
  {
   "cell_type": "markdown",
   "metadata": {},
   "source": [
    "ödev: Kullanıcıdan aldığınız bir sayının Armstrong number olup olmadığını kontrol eden algoritmayı oluşturun"
   ]
  },
  {
   "cell_type": "code",
   "execution_count": 17,
   "metadata": {},
   "outputs": [],
   "source": [
    "import time\n",
    "\n",
    "def amstrong_number(x):\n",
    "    \n",
    "    \"\"\"Bu fonksiyon bir sayının amstrong sayı olup olmadığını belirler\"\"\"\n",
    "\n",
    "    toplam = 0\n",
    "\n",
    "    for i in x:\n",
    "\n",
    "        toplam += int(i) ** len(x) \n",
    "        \n",
    "    if toplam == int(x):\n",
    "        print(f\"{x} sayısı amstrong bir sayıdır.\")\n",
    "    else:\n",
    "        print(f\"{x} sayısı amstrong bir sayı değildir.\"  )"
   ]
  },
  {
   "cell_type": "code",
   "execution_count": 18,
   "metadata": {},
   "outputs": [
    {
     "name": "stdout",
     "output_type": "stream",
     "text": [
      "407 sayısı amstrong bir sayıdır.\n",
      "1634 sayısı amstrong bir sayıdır.\n",
      "526 sayısı amstrong bir sayı değildir.\n",
      "Çıkış yapılıyor. Programı kullandığınız için teşekkürler.\n"
     ]
    }
   ],
   "source": [
    "while True:\n",
    "\n",
    "    a = input(\"Lütfen bir tam sayı giriniz. Çıkmak için 'q' ya basınız\")\n",
    "\n",
    "    if a.lower() != \"q\": \n",
    "        \n",
    "        amstrong_number(a)\n",
    "    else:\n",
    "        print(\"Çıkış yapılıyor. Programı kullandığınız için teşekkürler.\")\n",
    "        time.sleep(2)\n",
    "        break\n"
   ]
  },
  {
   "cell_type": "code",
   "execution_count": 2,
   "metadata": {},
   "outputs": [
    {
     "data": {
      "text/plain": [
       "'Bu Fonksiyon iki tane sayının karesini alır ve toplar'"
      ]
     },
     "execution_count": 2,
     "metadata": {},
     "output_type": "execute_result"
    }
   ],
   "source": [
    "kareler_toplamı_2.__doc__ # bu şekilde fonksiyonun bilgi dökümanına ulaşılır."
   ]
  },
  {
   "cell_type": "code",
   "execution_count": 3,
   "metadata": {},
   "outputs": [
    {
     "name": "stdout",
     "output_type": "stream",
     "text": [
      "Prints the values to a stream, or to sys.stdout by default.\n",
      "\n",
      "  sep\n",
      "    string inserted between values, default a space.\n",
      "  end\n",
      "    string appended after the last value, default a newline.\n",
      "  file\n",
      "    a file-like object (stream); defaults to the current sys.stdout.\n",
      "  flush\n",
      "    whether to forcibly flush the stream.\n"
     ]
    }
   ],
   "source": [
    "print(print.__doc__) # bu şekilde de print'in dökümanını görürüz print içinde yazdığımızdan daha\n",
    "# derli toplu görülecektir."
   ]
  },
  {
   "cell_type": "code",
   "execution_count": 4,
   "metadata": {},
   "outputs": [
    {
     "name": "stdout",
     "output_type": "stream",
     "text": [
      "hello world\n"
     ]
    }
   ],
   "source": [
    "print(\"hello world\")"
   ]
  },
  {
   "cell_type": "code",
   "execution_count": 5,
   "metadata": {},
   "outputs": [
    {
     "name": "stdout",
     "output_type": "stream",
     "text": [
      "hello world\n"
     ]
    }
   ],
   "source": [
    "a = print(\"hello world\") \n",
    "# burada a'ya eşitlesekte yapamayız çünkü print bir kere show eder ve içini boşaltır \n",
    "# bu yüzden a' ya hiç birşey eştilenmez. burada verilen print'in işini yapmasındandır."
   ]
  },
  {
   "cell_type": "code",
   "execution_count": 6,
   "metadata": {},
   "outputs": [],
   "source": [
    "a # görüldüğü üzere a'ya hiç bir şey atanmamıştır."
   ]
  },
  {
   "cell_type": "code",
   "execution_count": 7,
   "metadata": {},
   "outputs": [],
   "source": [
    "def calculator_1(num1,opr,num2):\n",
    "\n",
    "    if opr == \"+\":\n",
    "        print(num1 + num2)\n",
    "    elif opr == \"-\":\n",
    "        print(num1 - num2)\n",
    "    elif opr == \"x\":\n",
    "        print(num1 * num2)\n",
    "    elif opr == \"/\":\n",
    "        print(num1 / num2)\n",
    "    else:\n",
    "        print(\"Hatalı operatör girişi.\")"
   ]
  },
  {
   "cell_type": "code",
   "execution_count": 8,
   "metadata": {},
   "outputs": [
    {
     "name": "stdout",
     "output_type": "stream",
     "text": [
      "13\n"
     ]
    }
   ],
   "source": [
    "calculator_1(5,\"+\",8)"
   ]
  },
  {
   "cell_type": "code",
   "execution_count": 9,
   "metadata": {},
   "outputs": [
    {
     "name": "stdout",
     "output_type": "stream",
     "text": [
      "13\n"
     ]
    }
   ],
   "source": [
    "b = calculator_1(5,\"+\",8)"
   ]
  },
  {
   "cell_type": "code",
   "execution_count": 10,
   "metadata": {},
   "outputs": [],
   "source": [
    "b # görüldüğü üzere burada b'ye atama yapmamıza rağmen b boş oluyor çünkü burada verilen çıktı \n",
    "# calculator_1 içindeki print işlemi sayesindedir. \n",
    "# print işlemini yaptıktan sonra içini boşalltığından b'ye atama yapılmamaktadır."
   ]
  },
  {
   "cell_type": "code",
   "execution_count": 11,
   "metadata": {},
   "outputs": [],
   "source": [
    "def calculator_2(num1,opr,num2):\n",
    "\n",
    "    if opr == \"+\":\n",
    "        return num1 + num2\n",
    "    elif opr == \"-\":\n",
    "        return num1 - num2\n",
    "    elif opr == \"x\":\n",
    "        return num1 * num2\n",
    "    elif opr == \"/\":\n",
    "        return num1 / num2\n",
    "    else:\n",
    "        return \"Hatalı operatör girişi.\""
   ]
  },
  {
   "cell_type": "code",
   "execution_count": 12,
   "metadata": {},
   "outputs": [
    {
     "data": {
      "text/plain": [
       "13"
      ]
     },
     "execution_count": 12,
     "metadata": {},
     "output_type": "execute_result"
    }
   ],
   "source": [
    "calculator_2(5,\"+\",8)"
   ]
  },
  {
   "cell_type": "code",
   "execution_count": 13,
   "metadata": {},
   "outputs": [],
   "source": [
    "c = calculator_2(5,\"+\",8) # fonksiyon içerisinde sonucu return ile aldığımızdan \n",
    "# atama yapabiliyoruz.\n",
    "# bir fonksiyondan gelen sonucu başka bir yerde kullanmak istiyorsak return kullanmak zorundayız."
   ]
  },
  {
   "cell_type": "code",
   "execution_count": 14,
   "metadata": {},
   "outputs": [
    {
     "data": {
      "text/plain": [
       "13"
      ]
     },
     "execution_count": 14,
     "metadata": {},
     "output_type": "execute_result"
    }
   ],
   "source": [
    "c # burada calculator_2 fonksiyonun içinde print değil retun ile tanımladık çıktıları \n",
    "# bu yüzden c'ye atama yapabiliyoruz.\n",
    "# yani sonucu daha sonra kullanacak isek eğer fonksiyonda return ile sonuç almalıyız.\n",
    "# print ile alınan sonuçlar daha sonra kullanılamaz ve bir atama yapılamaz."
   ]
  },
  {
   "cell_type": "code",
   "execution_count": null,
   "metadata": {},
   "outputs": [],
   "source": [
    "# iki kenar bilgisi bilinen dik üçgenin hipotenüsünü bulan fonk. yazın.\n",
    "# daha sonra üçgenin çevresini hesaplayın."
   ]
  },
  {
   "cell_type": "code",
   "execution_count": 15,
   "metadata": {},
   "outputs": [],
   "source": [
    "def hypo(x, y):\n",
    "    return (x ** 2 + y ** 2) ** 0.5\n",
    "# bu fonksiyonda return ile sonuc aldığımızdan daha sonraki işlemlerimizde kullanabileceğiz\n",
    "# örneği aşagıda çevre hesabındadır. \n",
    "# eğer func'ta print ile yazsaydık çevresini bulma işleminde kullanamazdık."
   ]
  },
  {
   "cell_type": "code",
   "execution_count": 16,
   "metadata": {},
   "outputs": [
    {
     "data": {
      "text/plain": [
       "5.0"
      ]
     },
     "execution_count": 16,
     "metadata": {},
     "output_type": "execute_result"
    }
   ],
   "source": [
    "hypo(3, 4)"
   ]
  },
  {
   "cell_type": "code",
   "execution_count": 17,
   "metadata": {},
   "outputs": [
    {
     "data": {
      "text/plain": [
       "12.0"
      ]
     },
     "execution_count": 17,
     "metadata": {},
     "output_type": "execute_result"
    }
   ],
   "source": [
    "çevre = 3 + 4 + hypo(3, 4)\n",
    "çevre # görrüldüğü gibi burada fonksiyonu return ile yazdığımızdan kullanabiliyoruz."
   ]
  },
  {
   "cell_type": "code",
   "execution_count": 18,
   "metadata": {},
   "outputs": [
    {
     "name": "stdout",
     "output_type": "stream",
     "text": [
      "[1, 15, 5, 89, 45, 71, 45, 95, 61]\n",
      "[2, 36, 62, 52, 30, 56, 48]\n"
     ]
    }
   ],
   "source": [
    "# bir listenin sayılarını klasik yöntemle tek çift ayırma yöntemi \n",
    "\n",
    "sayılar_listesi = [1,15,2,36,5,89,45,62,52,71,30,56,45,95,61,48]\n",
    "\n",
    "odds = []\n",
    "evens = []\n",
    "\n",
    "for i in sayılar_listesi:\n",
    "\n",
    "    if i % 2 == 0:\n",
    "        evens.append(i)\n",
    "    else:\n",
    "        odds.append(i)\n",
    "\n",
    "print(odds)\n",
    "print(evens)"
   ]
  },
  {
   "cell_type": "code",
   "execution_count": 19,
   "metadata": {},
   "outputs": [],
   "source": [
    "# Fonk. ile tek çift ayırma işlemi bu şekilde\n",
    "# bu sayede bu fonksiyon ile istediğimiz bir listeyi tek ve çift olarak ayırabiliriz.\n",
    "# ve sonrasında return den dolayı bu çıktılarımızı kullanabiliriz.\n",
    "def tek_cıft_ayırıcı(liste, istek):\n",
    "    \n",
    "    odds = []\n",
    "    evens = []\n",
    "\n",
    "    for i in liste:\n",
    "\n",
    "        if i % 2 == 0:\n",
    "            evens.append(i)\n",
    "        else:\n",
    "            odds.append(i)\n",
    "    \n",
    "    if istek == \"tek\":\n",
    "        return odds\n",
    "    \n",
    "    elif istek == \"çift\":\n",
    "        return evens\n",
    "    else:\n",
    "        print(\"Hatalı istek\")\n",
    "# bu fonksiyonla kendimize bir tek çift ayıklayıcı yapmış oluyoruz"
   ]
  },
  {
   "cell_type": "code",
   "execution_count": 20,
   "metadata": {},
   "outputs": [
    {
     "data": {
      "text/plain": [
       "[1, 15, 5, 89, 45, 71, 45, 95, 61]"
      ]
     },
     "execution_count": 20,
     "metadata": {},
     "output_type": "execute_result"
    }
   ],
   "source": [
    "tek_cıft_ayırıcı(sayılar_listesi, \"tek\") \n",
    "# fonksiyon kullanarak tek sayıları aldık listeden"
   ]
  },
  {
   "cell_type": "code",
   "execution_count": 21,
   "metadata": {},
   "outputs": [
    {
     "data": {
      "text/plain": [
       "[2, 36, 62, 52, 30, 56, 48]"
      ]
     },
     "execution_count": 21,
     "metadata": {},
     "output_type": "execute_result"
    }
   ],
   "source": [
    "tek_cıft_ayırıcı(sayılar_listesi, \"çift\")\n",
    "# fonksiyon kullanarak çift sayıları aldık listeden"
   ]
  },
  {
   "cell_type": "code",
   "execution_count": 22,
   "metadata": {},
   "outputs": [],
   "source": [
    "def adın_kadar_kazan(isim):\n",
    "\n",
    "    \"\"\"Bu fonksiyon ismin içindeki sesli harfleri bulur.\"\"\"\n",
    "\n",
    "    counter = 0\n",
    "\n",
    "    for i in isim.lower():\n",
    "\n",
    "        if i in \"aeiıuüoö\": # stringin içinde varsa demek.\n",
    "            counter += 1\n",
    "\n",
    "    return counter"
   ]
  },
  {
   "cell_type": "code",
   "execution_count": 24,
   "metadata": {},
   "outputs": [
    {
     "data": {
      "text/plain": [
       "2000"
      ]
     },
     "execution_count": 24,
     "metadata": {},
     "output_type": "execute_result"
    }
   ],
   "source": [
    "adın_kadar_kazan(\"irem\") * 1000 \n",
    "# görüldüğü gibi return'le fonksiyonda sonuç aldığımızda \n",
    "# daha sonraki işlemlerde de kullanabiliyoruz. print ile yazarsak sonraki işlemleri yapamayız.\n",
    "# işleme devam edeceksek return kullanmak zorundayız."
   ]
  },
  {
   "cell_type": "code",
   "execution_count": 35,
   "metadata": {},
   "outputs": [],
   "source": [
    "# armstron sayı bulma fonsiyonu \n",
    "def find_armstrong(x):\n",
    "\n",
    "    x = str(x)\n",
    "\n",
    "    uzunluk = len(x)\n",
    "\n",
    "    if int(x) == sum([int(i) ** uzunluk for i in x]):\n",
    "\n",
    "        print(f\"{x} sayısı armstrong bir sayıdır.\")\n",
    "    else:\n",
    "        print(f\"{x} sayısı armstrong bir sayı değildir.\")"
   ]
  },
  {
   "cell_type": "code",
   "execution_count": 38,
   "metadata": {},
   "outputs": [
    {
     "name": "stdout",
     "output_type": "stream",
     "text": [
      "407 sayısı armstrong bir sayıdır.\n"
     ]
    }
   ],
   "source": [
    "find_armstrong(407)"
   ]
  },
  {
   "cell_type": "code",
   "execution_count": 39,
   "metadata": {},
   "outputs": [],
   "source": [
    "# armstron sayı bulma fonsiyonu \n",
    "# eğer sayı armstrong bir sayı ise kullanmamız gerektiği söylendiğinde bu şekilde yaparız.\n",
    "\n",
    "def find_armstrong_2(x):\n",
    "\n",
    "    x = str(x)\n",
    "\n",
    "    uzunluk = len(x)\n",
    "\n",
    "    if int(x) == sum([int(i) ** uzunluk for i in x]):\n",
    "\n",
    "        return int(x)"
   ]
  },
  {
   "cell_type": "code",
   "execution_count": 45,
   "metadata": {},
   "outputs": [],
   "source": [
    "find_armstrong_2(154) \n",
    "# fonksiyonu kullandığımızda bize bir çıktı vermiyorsa bu aslında None demektir.\n",
    "# bunu da if li yapılarda kullanabiliriz sorgulayabilmek için örnek aşağıdadır."
   ]
  },
  {
   "cell_type": "code",
   "execution_count": 44,
   "metadata": {},
   "outputs": [
    {
     "data": {
      "text/plain": [
       "[1, 2, 3, 4, 5, 6, 7, 8, 9, 153, 370, 371, 407, 1634, 8208, 9474]"
      ]
     },
     "execution_count": 44,
     "metadata": {},
     "output_type": "execute_result"
    }
   ],
   "source": [
    "result = [] \n",
    "\n",
    "for i in range(1,10001):\n",
    "\n",
    "    if find_armstrong_2(i) != None: # yada burada == int(i) yazarakta yapabiliriz.\n",
    "        result.append(i)\n",
    "\n",
    "result"
   ]
  },
  {
   "cell_type": "code",
   "execution_count": null,
   "metadata": {},
   "outputs": [],
   "source": [
    "%%time \n",
    "[i for i in range(1,10001)  if find_armstrong_2(i) != None]\n",
    "# yukarıdaki işlemi bu şekilde kolayca list comprehension olarak yapabiliriz.\n",
    "# %%time bu ifade işlemin ne kadar sürede yapıldığını verir bize pythonda"
   ]
  },
  {
   "cell_type": "code",
   "execution_count": null,
   "metadata": {},
   "outputs": [],
   "source": [
    "# prime number (asal sayılar) bulma fonksiyonunu yazınız \n",
    "# 2. olarak 1 ile 1000 arasındaki prime sayıları yazdırınız."
   ]
  },
  {
   "cell_type": "code",
   "execution_count": 4,
   "metadata": {},
   "outputs": [],
   "source": [
    "def find_prime(x):\n",
    "    \n",
    "    if x <= 1:\n",
    "        print(f\"Girdiğiniz sayı {x} olup asal bir sayı değildir.\")\n",
    "\n",
    "    else:\n",
    "        for i in range(2, x):\n",
    "\n",
    "            if (x % i) == 0:\n",
    "                print(f\"Girdiğiniz sayı {x} olup asal bir sayı değildir.\")\n",
    "                break\n",
    "        else:\n",
    "            print (f\"Girdiğiniz sayı {x} olup asal bir sayıdır.\")"
   ]
  },
  {
   "cell_type": "code",
   "execution_count": 5,
   "metadata": {},
   "outputs": [
    {
     "name": "stdout",
     "output_type": "stream",
     "text": [
      "Girdiğiniz sayı 2 olup asal bir sayıdır.\n"
     ]
    }
   ],
   "source": [
    "find_prime(2)"
   ]
  },
  {
   "cell_type": "code",
   "execution_count": 15,
   "metadata": {},
   "outputs": [
    {
     "name": "stdout",
     "output_type": "stream",
     "text": [
      "[2, 3, 5, 7, 11, 13, 17, 19, 23, 29, 31, 37, 41, 43, 47, 53, 59, 61, 67, 71, 73, 79, 83, 89, 97, 101, 103, 107, 109, 113, 127, 131, 137, 139, 149, 151, 157, 163, 167, 173, 179, 181, 191, 193, 197, 199, 211, 223, 227, 229, 233, 239, 241, 251, 257, 263, 269, 271, 277, 281, 283, 293, 307, 311, 313, 317, 331, 337, 347, 349, 353, 359, 367, 373, 379, 383, 389, 397, 401, 409, 419, 421, 431, 433, 439, 443, 449, 457, 461, 463, 467, 479, 487, 491, 499, 503, 509, 521, 523, 541, 547, 557, 563, 569, 571, 577, 587, 593, 599, 601, 607, 613, 617, 619, 631, 641, 643, 647, 653, 659, 661, 673, 677, 683, 691, 701, 709, 719, 727, 733, 739, 743, 751, 757, 761, 769, 773, 787, 797, 809, 811, 821, 823, 827, 829, 839, 853, 857, 859, 863, 877, 881, 883, 887, 907, 911, 919, 929, 937, 941, 947, 953, 967, 971, 977, 983, 991, 997]\n"
     ]
    }
   ],
   "source": [
    "def find_prime2(x):\n",
    "    \n",
    "    if x > 1:\n",
    "        \n",
    "        for i in range(2, x):\n",
    "\n",
    "            if (x % i) == 0:\n",
    "                break\n",
    "        else:\n",
    "            return x \n",
    "\n",
    "prime_nums = []\n",
    "\n",
    "for i in range(1,1001):\n",
    "    \n",
    "    if find_prime2(i) != None:\n",
    "        prime_nums.append(i)\n",
    "\n",
    "print(prime_nums)               "
   ]
  },
  {
   "cell_type": "markdown",
   "metadata": {},
   "source": [
    "## Positional and Keyword Arguments"
   ]
  },
  {
   "cell_type": "code",
   "execution_count": 33,
   "metadata": {},
   "outputs": [],
   "source": [
    "def my_name(first_name, last_name):\n",
    "\n",
    "    print(f\"My name is {first_name} {last_name}\")"
   ]
  },
  {
   "cell_type": "code",
   "execution_count": 34,
   "metadata": {},
   "outputs": [
    {
     "name": "stdout",
     "output_type": "stream",
     "text": [
      "My name is Sedat ASLAN\n"
     ]
    }
   ],
   "source": [
    "my_name(\"Sedat\", \"ASLAN\")"
   ]
  },
  {
   "cell_type": "code",
   "execution_count": 35,
   "metadata": {},
   "outputs": [
    {
     "name": "stdout",
     "output_type": "stream",
     "text": [
      "My name is ASLAN Sedat\n"
     ]
    }
   ],
   "source": [
    "my_name(\"ASLAN\", \"Sedat\") \n",
    "# görüldüğü gibi parametre sırasına göre argümanlarımızı vermez isek istediğmiz\n",
    "# doğru sonucu alamayız. positional dediğimiz bu parametrelerin bulundukları yere denir.\n",
    "# eğer burada 2 parametreye karşılık 2 argüman girmezsek hata alırız."
   ]
  },
  {
   "cell_type": "code",
   "execution_count": 36,
   "metadata": {},
   "outputs": [
    {
     "name": "stdout",
     "output_type": "stream",
     "text": [
      "My name is Sedat ASLAN\n"
     ]
    }
   ],
   "source": [
    "my_name(last_name=\"ASLAN\", first_name=\"Sedat\")\n",
    "# bu şekilde parametre keywordleri ile yazdığımızda positional(sıralama) durumunun bir önemi kalmaz\n",
    "# bize fonksiyon içerisindeki yazdığımız işleme göre doğru çıktı verir."
   ]
  },
  {
   "cell_type": "code",
   "execution_count": 37,
   "metadata": {},
   "outputs": [],
   "source": [
    "def your_name(first_name, last_name = \"Erdal\"):\n",
    "    print(f\"Your name is {first_name} {last_name}\")\n",
    "# burada parametrede yazmış olduğumuz last_name'in default değeri Erdal olmuş olur."
   ]
  },
  {
   "cell_type": "code",
   "execution_count": 38,
   "metadata": {},
   "outputs": [
    {
     "name": "stdout",
     "output_type": "stream",
     "text": [
      "My name is Betül Erdal\n"
     ]
    }
   ],
   "source": [
    "your_name(\"Betül\")\n",
    "# burada last_name'in default değeri olduğundan fonksiyonda iki parametre olmasına rağmen\n",
    "# bize hata vermez default değeri yazdırır. "
   ]
  },
  {
   "cell_type": "code",
   "execution_count": 39,
   "metadata": {},
   "outputs": [
    {
     "name": "stdout",
     "output_type": "stream",
     "text": [
      "My name is Fulya Çelebi\n"
     ]
    }
   ],
   "source": [
    "your_name(\"Fulya\", \"Çelebi\")\n",
    "# burada last_name'in default değerini değiştirmiş oluyoruz ve bize last_name'i yazdığımız\n",
    "# şekilde çıktı verir. Burada sadece tek seferlik değiştirmiş oluyoruz.\n",
    "# eğer fonksiyon sonra tekrar çalıştırılır default duruma birşey yazılmaz ise bize \n",
    "# ilk başta tanımlanmış olan defauşt Erdal değerini döndürür."
   ]
  },
  {
   "cell_type": "code",
   "execution_count": 41,
   "metadata": {},
   "outputs": [
    {
     "name": "stdout",
     "output_type": "stream",
     "text": [
      "My name is mete Erdal\n"
     ]
    }
   ],
   "source": [
    "your_name(\"mete\") \n",
    "# görüldüğü gibi kalıcı bir değişiklik olmuyor."
   ]
  },
  {
   "cell_type": "code",
   "execution_count": 42,
   "metadata": {},
   "outputs": [
    {
     "ename": "SyntaxError",
     "evalue": "positional argument follows keyword argument (2766357952.py, line 1)",
     "output_type": "error",
     "traceback": [
      "\u001b[1;36m  Cell \u001b[1;32mIn[42], line 1\u001b[1;36m\u001b[0m\n\u001b[1;33m    your_name(last_name=\"yıldız\", \"murat\")\u001b[0m\n\u001b[1;37m                                         ^\u001b[0m\n\u001b[1;31mSyntaxError\u001b[0m\u001b[1;31m:\u001b[0m positional argument follows keyword argument\n"
     ]
    }
   ],
   "source": [
    "your_name(last_name=\"yıldız\", \"murat\") \n",
    "# fonksiyonları tanımlarken önce positional olanlar önce yazılmalı \n",
    "# daha sonra default olanlar yazılır."
   ]
  },
  {
   "cell_type": "code",
   "execution_count": 43,
   "metadata": {},
   "outputs": [
    {
     "name": "stdout",
     "output_type": "stream",
     "text": [
      "My name is murat yıldız\n"
     ]
    }
   ],
   "source": [
    "your_name(\"murat\", last_name=\"yıldız\") # önce positional sonra default olanlar yazılır."
   ]
  },
  {
   "cell_type": "code",
   "execution_count": 47,
   "metadata": {},
   "outputs": [],
   "source": [
    "def tek_sayılar(a,b,c,d,e): # tanımlarken kaçtane parametre kullanıldıysa  ve default değerleri\n",
    "    #yoksa o kadar argüman olmak zorundadır yoksa hata alırız. \n",
    "\n",
    "    tek_sayılar = []\n",
    "\n",
    "    for i in a,b,c,d,e:\n",
    "\n",
    "        if i % 2:\n",
    "            tek_sayılar.append(i)\n",
    "    return tek_sayılar"
   ]
  },
  {
   "cell_type": "code",
   "execution_count": 48,
   "metadata": {},
   "outputs": [
    {
     "data": {
      "text/plain": [
       "[75, 45, 15]"
      ]
     },
     "execution_count": 48,
     "metadata": {},
     "output_type": "execute_result"
    }
   ],
   "source": [
    "tek_sayılar(4, 75, 45, 26, 15)"
   ]
  },
  {
   "cell_type": "code",
   "execution_count": 49,
   "metadata": {},
   "outputs": [
    {
     "ename": "TypeError",
     "evalue": "tek_sayılar() missing 2 required positional arguments: 'd' and 'e'",
     "output_type": "error",
     "traceback": [
      "\u001b[1;31m---------------------------------------------------------------------------\u001b[0m",
      "\u001b[1;31mTypeError\u001b[0m                                 Traceback (most recent call last)",
      "Cell \u001b[1;32mIn[49], line 1\u001b[0m\n\u001b[1;32m----> 1\u001b[0m \u001b[43mtek_sayılar\u001b[49m\u001b[43m(\u001b[49m\u001b[38;5;241;43m4\u001b[39;49m\u001b[43m,\u001b[49m\u001b[43m \u001b[49m\u001b[38;5;241;43m75\u001b[39;49m\u001b[43m,\u001b[49m\u001b[43m \u001b[49m\u001b[38;5;241;43m45\u001b[39;49m\u001b[43m)\u001b[49m\n\u001b[0;32m      2\u001b[0m \u001b[38;5;66;03m# 5 adet parametremiz vardı biz 3 adet verdik hata alıyoruz iki argüman eksik diye.\u001b[39;00m\n",
      "\u001b[1;31mTypeError\u001b[0m: tek_sayılar() missing 2 required positional arguments: 'd' and 'e'"
     ]
    }
   ],
   "source": [
    "tek_sayılar(4, 75, 45) # 5 adet parametremiz vardı biz 3 adet verdik hata alıyoruz iki argüman eksik diye."
   ]
  },
  {
   "cell_type": "markdown",
   "metadata": {},
   "source": [
    "## Arbitrary Number of Arguments(* args, ** kwargs) (isteğe bağlı arguman sayısı)"
   ]
  },
  {
   "cell_type": "markdown",
   "metadata": {},
   "source": [
    "## *args"
   ]
  },
  {
   "cell_type": "code",
   "execution_count": 52,
   "metadata": {},
   "outputs": [],
   "source": [
    "def tek_sayılar_2(* sayılar):  \n",
    "# parametre kısmında * sayılar şeklinde bir tanımlama yaparsak artık fonksiyonu çalıştırırken\n",
    "# istediğimiz kadar argüman yazabiliriz. Kaç tane verileceği bilinmeyen durumlarda kullanılır.\n",
    "\n",
    "    tek_sayılar = []\n",
    "\n",
    "    for i in sayılar:\n",
    "\n",
    "        if i % 2:\n",
    "            tek_sayılar.append(i)\n",
    "    return tek_sayılar"
   ]
  },
  {
   "cell_type": "code",
   "execution_count": 53,
   "metadata": {},
   "outputs": [
    {
     "data": {
      "text/plain": [
       "[25, 15, 17]"
      ]
     },
     "execution_count": 53,
     "metadata": {},
     "output_type": "execute_result"
    }
   ],
   "source": [
    "tek_sayılar_2(4,25,36,15,17)"
   ]
  },
  {
   "cell_type": "code",
   "execution_count": 58,
   "metadata": {},
   "outputs": [
    {
     "data": {
      "text/plain": [
       "[3, 5, 7, 9]"
      ]
     },
     "execution_count": 58,
     "metadata": {},
     "output_type": "execute_result"
    }
   ],
   "source": [
    "tek_sayılar_2(2,3,4,5,6,7,8,9) \n",
    "# görüldüğü gibi istediğimiz kadar argüman girsekte fonk. çalışır."
   ]
  },
  {
   "cell_type": "code",
   "execution_count": 66,
   "metadata": {},
   "outputs": [],
   "source": [
    "# teklerin karesi çiftlerin 2 katını yazdıran fonksiyonu yazın. \n",
    "# girilecek argüman sayısı belli değildir.\n",
    "\n",
    "def tek_cift(* sayılar):  \n",
    "\n",
    "    result = []\n",
    "    \n",
    "\n",
    "    for i in sayılar:\n",
    "\n",
    "        if i % 2:\n",
    "            result.append(i ** 2) \n",
    "        else:\n",
    "            result.append(i * 2)\n",
    "\n",
    "    return result"
   ]
  },
  {
   "cell_type": "code",
   "execution_count": 67,
   "metadata": {},
   "outputs": [
    {
     "data": {
      "text/plain": [
       "[4, 9, 8, 25, 12, 49, 16, 81]"
      ]
     },
     "execution_count": 67,
     "metadata": {},
     "output_type": "execute_result"
    }
   ],
   "source": [
    "tek_cift(2,3,4,5,6,7,8,9)"
   ]
  },
  {
   "cell_type": "code",
   "execution_count": 68,
   "metadata": {},
   "outputs": [],
   "source": [
    "def tek_cift(* sayılar): # bu yukarıdaki işlemin list comprehension yöntemiyle daha kısa yoludur.\n",
    "\n",
    "    result = [i ** 2 if i % 2 else i *2 for i in sayılar]\n",
    "\n",
    "    return result\n",
    "\n",
    "# bu kodda return [i ** 2 if i % 2 else i *2 for i in sayılar] olarak da yazıp hiç bir \n",
    "# result ataması yapmadan daha 2 satırda da yazabiliriz.\n",
    "\n"
   ]
  },
  {
   "cell_type": "code",
   "execution_count": 69,
   "metadata": {},
   "outputs": [
    {
     "data": {
      "text/plain": [
       "[1, 4, 9, 8, 25, 12, 49, 16, 81]"
      ]
     },
     "execution_count": 69,
     "metadata": {},
     "output_type": "execute_result"
    }
   ],
   "source": [
    "tek_cift(1,2,3,4,5,6,7,8,9)"
   ]
  },
  {
   "cell_type": "code",
   "execution_count": 71,
   "metadata": {},
   "outputs": [
    {
     "ename": "TypeError",
     "evalue": "unsupported operand type(s) for %: 'range' and 'int'",
     "output_type": "error",
     "traceback": [
      "\u001b[1;31m---------------------------------------------------------------------------\u001b[0m",
      "\u001b[1;31mTypeError\u001b[0m                                 Traceback (most recent call last)",
      "Cell \u001b[1;32mIn[71], line 1\u001b[0m\n\u001b[1;32m----> 1\u001b[0m \u001b[43mtek_cift\u001b[49m\u001b[43m(\u001b[49m\u001b[38;5;28;43mrange\u001b[39;49m\u001b[43m(\u001b[49m\u001b[38;5;241;43m1\u001b[39;49m\u001b[43m,\u001b[49m\u001b[38;5;241;43m10\u001b[39;49m\u001b[43m)\u001b[49m\u001b[43m)\u001b[49m \u001b[38;5;66;03m# içerisine range verince hata alırız \u001b[39;00m\n",
      "Cell \u001b[1;32mIn[68], line 3\u001b[0m, in \u001b[0;36mtek_cift\u001b[1;34m(*sayılar)\u001b[0m\n\u001b[0;32m      1\u001b[0m \u001b[38;5;28;01mdef\u001b[39;00m \u001b[38;5;21mtek_cift\u001b[39m(\u001b[38;5;241m*\u001b[39m sayılar):\n\u001b[1;32m----> 3\u001b[0m     result \u001b[38;5;241m=\u001b[39m [i \u001b[38;5;241m*\u001b[39m\u001b[38;5;241m*\u001b[39m \u001b[38;5;241m2\u001b[39m \u001b[38;5;28;01mif\u001b[39;00m \u001b[43mi\u001b[49m\u001b[43m \u001b[49m\u001b[38;5;241;43m%\u001b[39;49m\u001b[43m \u001b[49m\u001b[38;5;241;43m2\u001b[39;49m \u001b[38;5;28;01melse\u001b[39;00m i \u001b[38;5;241m*\u001b[39m\u001b[38;5;241m2\u001b[39m \u001b[38;5;28;01mfor\u001b[39;00m i \u001b[38;5;129;01min\u001b[39;00m sayılar]\n\u001b[0;32m      5\u001b[0m     \u001b[38;5;28;01mreturn\u001b[39;00m result\n",
      "\u001b[1;31mTypeError\u001b[0m: unsupported operand type(s) for %: 'range' and 'int'"
     ]
    }
   ],
   "source": [
    "tek_cift(range(1,10)) # içerisine range verince hata alırız "
   ]
  },
  {
   "cell_type": "code",
   "execution_count": 70,
   "metadata": {},
   "outputs": [
    {
     "data": {
      "text/plain": [
       "[1, 4, 9, 8, 25, 12, 49, 16, 81]"
      ]
     },
     "execution_count": 70,
     "metadata": {},
     "output_type": "execute_result"
    }
   ],
   "source": [
    "tek_cift(* range(1,10)) # * işareti ile kullanıldığında işlemimizi gerçekleştirecek\n",
    "# * işareti tüm değerleri tek tek ayırdığından işlem yapıyor. "
   ]
  },
  {
   "cell_type": "markdown",
   "metadata": {},
   "source": [
    "## **kwargs"
   ]
  },
  {
   "cell_type": "code",
   "execution_count": 72,
   "metadata": {},
   "outputs": [
    {
     "data": {
      "text/plain": [
       "{'name1': 'seyda', 'name2': 'medine', 'name3': 'orkun'}"
      ]
     },
     "execution_count": 72,
     "metadata": {},
     "output_type": "execute_result"
    }
   ],
   "source": [
    "dict_1 = {\"name1\": \"seyda\", \"name2\": \"medine\", \"name3\": \"orkun\"}\n",
    "dict_1"
   ]
  },
  {
   "cell_type": "code",
   "execution_count": 73,
   "metadata": {},
   "outputs": [],
   "source": [
    "def kwargs_function(** kwargs):\n",
    "# kwargs ile yukarıdaki gibi oluşturulan fonksiyonlarda dict yapısı kullanmamız gerekiyor\n",
    "# burada da istediğimiz kadar argüman girebiliriz.\n",
    "    for i,j in kwargs.items():\n",
    "        print(f\"key: {i}, value: {j}\")"
   ]
  },
  {
   "cell_type": "code",
   "execution_count": 74,
   "metadata": {},
   "outputs": [
    {
     "name": "stdout",
     "output_type": "stream",
     "text": [
      "key: name4, value: oguz\n",
      "key: name5, value: murat\n",
      "key: name6, value: yıldız\n"
     ]
    }
   ],
   "source": [
    "kwargs_function(name4 = \"oguz\", name5 = \"murat\", name6 = \"yıldız\")"
   ]
  },
  {
   "cell_type": "code",
   "execution_count": 75,
   "metadata": {},
   "outputs": [
    {
     "name": "stdout",
     "output_type": "stream",
     "text": [
      "key: name1, value: seyda\n",
      "key: name2, value: medine\n",
      "key: name3, value: orkun\n"
     ]
    }
   ],
   "source": [
    "kwargs_function(** dict_1)\n",
    "# burada eğer ** işareti koymaz isek hata alırız burada ** işareti koyduğumuzda \n",
    "# onu sözlük yapısında algılayarak işlem yapıyor fonksiyon bu sayede çalışıyor "
   ]
  },
  {
   "cell_type": "markdown",
   "metadata": {},
   "source": [
    "Ödev :\n",
    "Anne, baba ve çocuktan oluşan çekirdek ailenin Süper aile olup olmadığını bulan kodu yazın. isimleri kullanıcıdan isteyin. (Çocuğun ismindeki sessiz harflerin hepsi, anne ve babanın isimlerinde var ise bu aile süper ailedir.(Not: anne ve baba isminden en az bir tane olmalı.). örn1: baba adı = \"Halil\", anne adı= \"Merve\", çocuk adı= \"Veli\" >> Süper aile. (\"v\" anneden, \"l\" babadan) örn2: baba adı = \"Murat\", anne adı= \"Songül\", çocuk adı= \"Mert\" >> Süper aile değil. Anneden harf yok."
   ]
  },
  {
   "cell_type": "code",
   "execution_count": 6,
   "metadata": {},
   "outputs": [],
   "source": [
    "def super_family(child,dad,mom):\n",
    "    x = set(child.lower())\n",
    "    y = set(dad.lower())\n",
    "    z = set(mom.lower())\n",
    "    vowel = set(\"aeıioöuü\")\n",
    "\n",
    "    if len(x - vowel & y - vowel) > 0 and len(x - vowel & z - vowel) > 0:\n",
    "        print (\"Aileniz bir süper ailedir.\")\n",
    "        \n",
    "    else:\n",
    "        print (\"Maalesef aileniz bir süper aile değildir.\")"
   ]
  },
  {
   "cell_type": "code",
   "execution_count": 9,
   "metadata": {},
   "outputs": [
    {
     "name": "stdout",
     "output_type": "stream",
     "text": [
      "Aileniz bir süper ailedir.\n"
     ]
    }
   ],
   "source": [
    "super_family(\"Taha\", \"Murat\", \"Hale\")"
   ]
  },
  {
   "cell_type": "markdown",
   "metadata": {},
   "source": [
    "Kullanıcıdan adını, maaşını ve çalışma yılını girmesini isteyiniz. 0-5 yıl arası çalışanlara %10; 6-10 yıl arası\n",
    "çalışanlara %15; 11 ve daha fazla yıl çalışanlara %25 zam yapılmaktadır. Buna göre “Sayın …………….., zamlı maaşınız\n",
    "…….. TL” çıktısı veren kodu yazınız."
   ]
  },
  {
   "cell_type": "code",
   "execution_count": 54,
   "metadata": {},
   "outputs": [
    {
     "name": "stdout",
     "output_type": "stream",
     "text": [
      "Sayın mete zamlı maaşınız 33000.0 TL'dir.\n"
     ]
    }
   ],
   "source": [
    "isim = input(\"Lütfen isminiz giriniz:\")\n",
    "maas = int(input(\"lütfen mevcut maaşınızı giriniz:\"))\n",
    "süre = int(input(\"lütfen çalışma yılınız giriniz\"))\n",
    "\n",
    "zam = 0\n",
    "\n",
    "if 0 < süre <=5:\n",
    "    zam = maas * 0.10\n",
    "else:\n",
    "    zam = maas * 0.25\n",
    "print(f\"Sayın {isim} zamlı maaşınız {maas + zam} TL'dir.\")"
   ]
  },
  {
   "cell_type": "code",
   "execution_count": 55,
   "metadata": {},
   "outputs": [
    {
     "data": {
      "text/plain": [
       "[1, 225, 4, 72, 25, 7921, 2025, 124, 104, 5041, 60, 112, 2025, 9025, 3721, 96]"
      ]
     },
     "execution_count": 55,
     "metadata": {},
     "output_type": "execute_result"
    }
   ],
   "source": [
    "sayılar_listesi = [1,15,2,36,5,89,45,62,52,71,30,56,45,95,61,48]\n",
    "\n",
    "liste = []\n",
    "for i in sayılar_listesi:\n",
    "    if i % 2 == 0:\n",
    "        liste.append(i * 2)\n",
    "    else:\n",
    "        liste.append(i ** 2)\n",
    "\n",
    "liste"
   ]
  },
  {
   "cell_type": "code",
   "execution_count": 56,
   "metadata": {},
   "outputs": [
    {
     "data": {
      "text/plain": [
       "[1, 225, 4, 72, 25, 7921, 2025, 124, 104, 5041, 60, 112, 2025, 9025, 3721, 96]"
      ]
     },
     "execution_count": 56,
     "metadata": {},
     "output_type": "execute_result"
    }
   ],
   "source": [
    "sayılar_listesi = [1,15,2,36,5,89,45,62,52,71,30,56,45,95,61,48]\n",
    "\n",
    "[i * 2 if i % 2 == 0 else i ** 2 for i in sayılar_listesi]"
   ]
  },
  {
   "cell_type": "code",
   "execution_count": 61,
   "metadata": {},
   "outputs": [
    {
     "data": {
      "text/plain": [
       "set"
      ]
     },
     "execution_count": 61,
     "metadata": {},
     "output_type": "execute_result"
    }
   ],
   "source": [
    "sayılar_listesi = [1,15,2,36,5,89,45,62,52,71,30,56,45,95,61,48]\n",
    "\n",
    "type({i * 3 for i in sayılar_listesi if i % 2 == 0}) # list comprehension modelini set  olacak şekilde de kullanabiliyoruz."
   ]
  },
  {
   "cell_type": "code",
   "execution_count": null,
   "metadata": {},
   "outputs": [],
   "source": []
  }
 ],
 "metadata": {
  "kernelspec": {
   "display_name": "Python 3",
   "language": "python",
   "name": "python3"
  },
  "language_info": {
   "codemirror_mode": {
    "name": "ipython",
    "version": 3
   },
   "file_extension": ".py",
   "mimetype": "text/x-python",
   "name": "python",
   "nbconvert_exporter": "python",
   "pygments_lexer": "ipython3",
   "version": "3.12.2"
  }
 },
 "nbformat": 4,
 "nbformat_minor": 2
}
